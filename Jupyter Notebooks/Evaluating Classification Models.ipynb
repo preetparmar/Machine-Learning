{
 "cells": [
  {
   "cell_type": "markdown",
   "id": "8fbd5eb1-7f4a-47f7-b5e9-bb1d26963616",
   "metadata": {},
   "source": [
    "# **Evaluating Classification Models**"
   ]
  },
  {
   "cell_type": "markdown",
   "id": "03df5e71-683b-4e27-8f14-fbda9430cf65",
   "metadata": {},
   "source": [
    "There are multiple evalution metrics which we can use. Some of them are:\n",
    "- **Confusion Matrix**\n",
    "- **Classification Accuracy**"
   ]
  },
  {
   "cell_type": "markdown",
   "id": "de40aa8f-748a-4c07-b5d5-65f2d36f97db",
   "metadata": {},
   "source": [
    "---\n",
    "---"
   ]
  },
  {
   "cell_type": "markdown",
   "id": "7f074376-ed1c-4403-b20c-2e3dbbc94e12",
   "metadata": {},
   "source": [
    "## **Preparing Data**"
   ]
  },
  {
   "cell_type": "markdown",
   "id": "583ca14f-9170-4490-9406-7aebb6ed0a55",
   "metadata": {},
   "source": [
    "### Importing Libraries"
   ]
  },
  {
   "cell_type": "code",
   "execution_count": 1,
   "id": "a4fe1a4a-1161-4321-b84e-ab5980d05c5a",
   "metadata": {},
   "outputs": [],
   "source": [
    "from sklearn.datasets import fetch_openml\n",
    "import numpy as np"
   ]
  },
  {
   "cell_type": "markdown",
   "id": "05f3ec9a-a3e2-45da-a119-51925721844a",
   "metadata": {},
   "source": [
    "### Fetching data"
   ]
  },
  {
   "cell_type": "code",
   "execution_count": 2,
   "id": "617d23a6-13a7-40b5-9a72-03ab28034c7b",
   "metadata": {},
   "outputs": [],
   "source": [
    "mnist = fetch_openml('mnist_784', version=1)\n",
    "X, y = mnist['data'], mnist['target'].astype(np.uint8)"
   ]
  },
  {
   "cell_type": "markdown",
   "id": "c4e22306-d1c4-4f2a-9681-2cc7df9c77ea",
   "metadata": {},
   "source": [
    "### Splitting the data into *Train* and *Test* sets"
   ]
  },
  {
   "cell_type": "code",
   "execution_count": 3,
   "id": "c99a6fec-6578-4bb3-819d-66cd798fa6f4",
   "metadata": {},
   "outputs": [],
   "source": [
    "X_train, X_test, y_train, y_test = X[:60000], X[60000:], y[:60000], y[60000:]"
   ]
  },
  {
   "cell_type": "markdown",
   "id": "02bc5ea7-c6ab-4994-a40f-508370cd1f63",
   "metadata": {},
   "source": [
    "---\n",
    "---"
   ]
  },
  {
   "cell_type": "markdown",
   "id": "de79bec7-64cb-4f2e-8175-a200b8b284f4",
   "metadata": {},
   "source": [
    "## **Training a Binary Classifier**"
   ]
  },
  {
   "cell_type": "markdown",
   "id": "3c845c33-e001-49ba-b0c4-6740cc453a43",
   "metadata": {},
   "source": [
    "Since our target values belong to multiple classes, let's just create a binary classifier in order to simply the classification process"
   ]
  },
  {
   "cell_type": "code",
   "execution_count": 4,
   "id": "1e77a832-e597-442a-ba01-ad7ef135553f",
   "metadata": {},
   "outputs": [],
   "source": [
    "y_train_5 = (y_train == 5)\n",
    "y_test_5 = (y_test == 5)"
   ]
  },
  {
   "cell_type": "markdown",
   "id": "072d1c7e-60a7-49b7-8ba3-3c89916676fc",
   "metadata": {},
   "source": [
    "### Initializing the model"
   ]
  },
  {
   "cell_type": "code",
   "execution_count": 5,
   "id": "0526a835-dfa4-4458-8a1e-00dbf3f07152",
   "metadata": {},
   "outputs": [
    {
     "data": {
      "text/plain": [
       "SGDClassifier(random_state=42)"
      ]
     },
     "execution_count": 5,
     "metadata": {},
     "output_type": "execute_result"
    }
   ],
   "source": [
    "from sklearn.linear_model import SGDClassifier\n",
    "\n",
    "sgd_clf = SGDClassifier(random_state=42)\n",
    "sgd_clf.fit(X_train, y_train_5)"
   ]
  },
  {
   "cell_type": "markdown",
   "id": "16f05f2e-7548-42a6-8065-94702bcf53f0",
   "metadata": {},
   "source": [
    "### Getting predictions\n",
    "*(Instead of getting predictions directly we can actually use `cross_val_predict` method to get predictions. It performs K-fold cross validation, but \n",
    "instead of returning scores, it returns predictions made on each test fold)*"
   ]
  },
  {
   "cell_type": "code",
   "execution_count": 6,
   "id": "dfd88764-9c2b-42f1-ac8a-47cc472d8639",
   "metadata": {},
   "outputs": [
    {
     "name": "stderr",
     "output_type": "stream",
     "text": [
      "[Parallel(n_jobs=1)]: Using backend SequentialBackend with 1 concurrent workers.\n",
      "[Parallel(n_jobs=1)]: Done   1 out of   1 | elapsed:    8.0s remaining:    0.0s\n",
      "[Parallel(n_jobs=1)]: Done   3 out of   3 | elapsed:   21.6s finished\n"
     ]
    }
   ],
   "source": [
    "from sklearn.model_selection import cross_val_predict\n",
    "\n",
    "y_pred_5 = cross_val_predict(estimator=sgd_clf,\n",
    "                            X=X_train,\n",
    "                            y=y_train_5,\n",
    "                            verbose=2,\n",
    "                            cv=3)"
   ]
  },
  {
   "cell_type": "markdown",
   "id": "c8f1da01-1a38-4156-8f60-201bd521fd67",
   "metadata": {},
   "source": [
    "---\n",
    "---"
   ]
  },
  {
   "cell_type": "markdown",
   "id": "05633696-27aa-4c2f-bbe6-52399a7e3556",
   "metadata": {},
   "source": [
    "## **Evaluating Performance**"
   ]
  },
  {
   "cell_type": "markdown",
   "id": "82989ff8-9c7d-448d-aa4e-4ac85f078044",
   "metadata": {},
   "source": [
    "### **Confusion Matrix**"
   ]
  },
  {
   "cell_type": "markdown",
   "id": "716747bf-b9f9-4c06-8ddd-584e699bdf52",
   "metadata": {},
   "source": [
    "- The general idea is to count the number of times instances of class A are classified as class B\n",
    "- It is represented as:\n",
    "![Confusion Matrix](../Resources/confusion-matrix.png)\n",
    "\n",
    "For simplicity, we will consider our example for 5 images *(5s)* and non-5 images *(non-5s)*\n",
    "\n",
    "- True Positive: Predictions which were correctly classified as a positive class *(correctly classified as 5s)*\n",
    "- False Positive: Predictions which were wrongly classified as a positive class *(wrongly classified as 5s)*\n",
    "- True Negative: Predictions which were correctly classified as negative class *(correctly classified as 5s)*\n",
    "- False Negative: Predictions which were wrongly classified as a negative class *(wrongly classified as non-5s)*"
   ]
  },
  {
   "cell_type": "code",
   "execution_count": 7,
   "id": "453fcf58-3a69-4f7b-800f-0b449163c4a9",
   "metadata": {},
   "outputs": [
    {
     "name": "stdout",
     "output_type": "stream",
     "text": [
      "[[53892   687]\n",
      " [ 1891  3530]]\n"
     ]
    }
   ],
   "source": [
    "from sklearn.metrics import confusion_matrix\n",
    "\n",
    "predicted_confusion_matrix = confusion_matrix(y_train_5, y_pred_5)\n",
    "print(predicted_confusion_matrix)"
   ]
  },
  {
   "cell_type": "markdown",
   "id": "5bcd71be-24b7-4864-b27a-3dedea223511",
   "metadata": {},
   "source": [
    "Here we can see:\n",
    "- 53,892 images were correctly classifed as 5s\n",
    "- 687 images were incorrectly classified as 5s\n",
    "- 3,530 images were correctly classified as non-5s\n",
    "- 1,891 images were incorrectly classified as non-5s"
   ]
  },
  {
   "cell_type": "markdown",
   "id": "55e288da-b006-4e2f-87e2-14a8020a988e",
   "metadata": {},
   "source": [
    "The confusion matrix gives us a lot of information but sometimes we may need more concise metrics in order to understand the performance of the model"
   ]
  },
  {
   "cell_type": "markdown",
   "id": "12187760-7579-4d92-888f-0fc572b33cb5",
   "metadata": {},
   "source": [
    "---"
   ]
  },
  {
   "cell_type": "markdown",
   "id": "91549cb5-ad2b-441e-adba-c982d25d7673",
   "metadata": {},
   "source": [
    "### **Classification Accuracy**"
   ]
  },
  {
   "cell_type": "markdown",
   "id": "168aff22-9ff3-44f0-90d3-5b6dde58edbf",
   "metadata": {},
   "source": [
    "- It is the total accurate predictions divided by the total values\n",
    "- In terms of confusion matrix it is:  $\\frac {TP + TN}{Total Values}$\n",
    "- It can be misleading when there are very few true cases *(like in our example, since there are few 5s)*\n",
    "\n",
    "\n"
   ]
  },
  {
   "cell_type": "code",
   "execution_count": 8,
   "id": "3f833b06-11cb-4ef6-80d5-3349a2dd8926",
   "metadata": {},
   "outputs": [
    {
     "name": "stdout",
     "output_type": "stream",
     "text": [
      "Predicted Accuracy Score: 0.9570333333333333\n"
     ]
    }
   ],
   "source": [
    "from sklearn.metrics import accuracy_score\n",
    "\n",
    "predicted_accuracy_score = accuracy_score(y_train_5, y_pred_5)\n",
    "print(f'Predicted Accuracy Score: {predicted_accuracy_score}')"
   ]
  },
  {
   "cell_type": "markdown",
   "id": "0a5add66-d15b-4e0c-b26a-a7d710a39705",
   "metadata": {},
   "source": [
    "---"
   ]
  },
  {
   "cell_type": "markdown",
   "id": "8abe42ca-8cd8-4969-b984-fc06a8dcdf09",
   "metadata": {},
   "source": [
    "### **Precision Score**"
   ]
  },
  {
   "cell_type": "markdown",
   "id": "65d858a7-478f-458b-a7d6-b5b2a1d07949",
   "metadata": {},
   "source": [
    "- It is the total of true predictions over the total true values\n",
    "- In terms of confusion matrix it is: $\\frac{TP}{TP + FP}$\n",
    "- If there is just one positive class and if the model was able to predict that one class class correctly but couldn't predict the negative class then also the precision score would be 100%, that's why it's accompanied by another metric called *Recall Score*"
   ]
  },
  {
   "cell_type": "code",
   "execution_count": 9,
   "id": "53856c17-4c20-413f-94f6-efebec5fd6a6",
   "metadata": {},
   "outputs": [
    {
     "name": "stdout",
     "output_type": "stream",
     "text": [
      "Predicted Precision Score: 0.8370879772350012\n"
     ]
    }
   ],
   "source": [
    "from sklearn.metrics import precision_score\n",
    "\n",
    "predicted_precision_score = precision_score(y_train_5, y_pred_5)\n",
    "print(f'Predicted Precision Score: {predicted_precision_score}')"
   ]
  },
  {
   "cell_type": "markdown",
   "id": "1987672b-376c-4af6-9752-20d8e7a9fe6c",
   "metadata": {},
   "source": [
    "We can see when our model claims that an image is 5, it's correct only 83.7% times"
   ]
  },
  {
   "cell_type": "markdown",
   "id": "3cafa101-77b1-46a1-bb3b-e85614bb9f50",
   "metadata": {},
   "source": [
    "---"
   ]
  },
  {
   "cell_type": "markdown",
   "id": "7c6842f4-ae4e-4521-ac0e-64a164bd4673",
   "metadata": {},
   "source": [
    "### **Recall Score**"
   ]
  },
  {
   "cell_type": "markdown",
   "id": "e0e83d5c-7ffb-4370-8eec-1ebf79a01557",
   "metadata": {},
   "source": [
    "- It's also called *Sensitivity* or *True Positive Rate (TPR)*\n",
    "- It is the ratio of positive instances that are correctly detected by the classifier\n",
    "- In terms of confusion matrix it is: $\\frac{TP}{TP + FN}$"
   ]
  },
  {
   "cell_type": "code",
   "execution_count": 10,
   "id": "92b74e20-8615-4625-862b-2b1ac2881150",
   "metadata": {},
   "outputs": [
    {
     "name": "stdout",
     "output_type": "stream",
     "text": [
      "Predicted Recall Score: 0.6511713705958311\n"
     ]
    }
   ],
   "source": [
    "from sklearn.metrics import recall_score\n",
    "\n",
    "predicted_recall_score = recall_score(y_train_5, y_pred_5)\n",
    "print(f'Predicted Recall Score: {predicted_recall_score}')"
   ]
  },
  {
   "cell_type": "markdown",
   "id": "e6cc5ee6-75c5-4b9e-ad97-b3ef67363d53",
   "metadata": {},
   "source": [
    "We can see that our model is only able to detect 65% of the 5s"
   ]
  },
  {
   "cell_type": "markdown",
   "id": "510de730-9c81-45c7-8309-a0772cb43b81",
   "metadata": {},
   "source": [
    "---"
   ]
  },
  {
   "cell_type": "markdown",
   "id": "f0a78b33-073b-418f-aec0-3f10613a313d",
   "metadata": {},
   "source": [
    "### **F1 Score**"
   ]
  },
  {
   "cell_type": "markdown",
   "id": "cfa93af2-0e88-4d1d-8d98-b2a2c658fdf1",
   "metadata": {},
   "source": [
    "- It's often convenient to combine *Precision* and *Recall* scores into one metric\n",
    "- It is the harmonic mean of *Precision* and *Recall*\n",
    "- That means it gives much more weight to the low values. As a result, the classifier will only get high $F_{1}$ score if both recall and precision are high\n",
    "    - You can't have high values for both *Precision* and *Recall*\n",
    "    - There is a trade-off between these two metrics. If you try to increase one, the other will decrease.\n",
    "    - You will have to choose to optimize one depending on the use case and try to get the best possible score of the other one\n",
    "- In terms of confusion matrix it is: $2 * \\frac {Precision * Recall} {Precision + Recall}$"
   ]
  },
  {
   "cell_type": "code",
   "execution_count": 11,
   "id": "f900a281-03ef-4231-a453-b49fdf62eb2e",
   "metadata": {},
   "outputs": [
    {
     "name": "stdout",
     "output_type": "stream",
     "text": [
      "Predicted F1 Score: 0.7325171197343846\n"
     ]
    }
   ],
   "source": [
    "from sklearn.metrics import f1_score\n",
    "\n",
    "predicted_f1_score = f1_score(y_train_5, y_pred_5)\n",
    "print(f'Predicted F1 Score: {predicted_f1_score}')"
   ]
  },
  {
   "cell_type": "markdown",
   "id": "81a1dc4b-ea93-4d94-b723-ad21877b448f",
   "metadata": {},
   "source": [
    "---"
   ]
  },
  {
   "cell_type": "markdown",
   "id": "af632f9d-79a4-4db2-b827-b143e5adb5a7",
   "metadata": {},
   "source": [
    "### **Precision-Recall Curve**"
   ]
  },
  {
   "cell_type": "markdown",
   "id": "f361f2f2-13ed-43fb-98f9-fd1fed2c40fe",
   "metadata": {},
   "source": [
    "- In order to understand the threshold where you want your *Precision* and *Recall* scores to be, scikit-learn provides a method called `precision_recall_curve`\n",
    "- It provides you with *precision*, *recall* and *threshold* values which you can then plot to better visualize the result\n",
    "- We need the scores for all the instances, we can use `cross_val_predict` with the `method` set to \"decision_function\" to get that"
   ]
  },
  {
   "cell_type": "code",
   "execution_count": 12,
   "id": "1d7d112b-7d56-4693-82e5-bc12bed82ff7",
   "metadata": {},
   "outputs": [],
   "source": [
    "from sklearn.metrics import precision_recall_curve\n",
    "\n",
    "y_scores_5 = cross_val_predict(estimator=sgd_clf,\n",
    "                              X=X_train,\n",
    "                              y=y_train_5,\n",
    "                              cv=3,\n",
    "                              method='decision_function')\n",
    "\n",
    "precisions, recalls, thresholds = precision_recall_curve(y_train_5, y_scores_5)"
   ]
  },
  {
   "cell_type": "markdown",
   "id": "3ca277db-606f-4bb1-baaa-85ebf5f10cd6",
   "metadata": {},
   "source": [
    "Visualizing the result:\n",
    "\n",
    "*(we will create a function to plot the result so that it can be used again if needed)*"
   ]
  },
  {
   "cell_type": "code",
   "execution_count": 13,
   "id": "62749d86-817c-4ad7-90f8-1afeff7b8185",
   "metadata": {},
   "outputs": [],
   "source": [
    "import matplotlib.pyplot as plt\n",
    "\n",
    "def plot_precision_recall_vs_threshold(precisios, recalls, thresholds):\n",
    "    plt.plot(thresholds, precisions[:-1], 'b--', label='Precision')\n",
    "    plt.plot(thresholds, recalls[:-1], 'g-', label='Recall')\n",
    "    plt.title('Precision and Recall vs Threshold', fontsize=20)\n",
    "    plt.xlabel('Threshold', fontsize=16)\n",
    "    plt.legend(loc='center right', fontsize=16)\n",
    "    plt.grid()\n",
    "    plt.axis([-50000, 50000, 0, 1])"
   ]
  },
  {
   "cell_type": "code",
   "execution_count": 14,
   "id": "bda62c56-da27-4495-aecd-95b4e75cfeaa",
   "metadata": {},
   "outputs": [
    {
     "data": {
      "image/png": "[encoded data removed]",
      "text/plain": [
       "<Figure size 432x288 with 1 Axes>"
      ]
     },
     "metadata": {
      "needs_background": "light"
     },
     "output_type": "display_data"
    }
   ],
   "source": [
    "plot_precision_recall_vs_threshold(precisions, recalls, thresholds)\n",
    "plt.show()"
   ]
  },
  {
   "cell_type": "markdown",
   "id": "a298fa61-2169-4e94-9b31-95e58aac1bce",
   "metadata": {},
   "source": [
    "---"
   ]
  },
  {
   "cell_type": "markdown",
   "id": "27c7ecd4-a73d-4d67-abca-aac130f9eb55",
   "metadata": {},
   "source": [
    "### **Reciever Operating Characteristic *(ROC)* Curve**"
   ]
  },
  {
   "cell_type": "markdown",
   "id": "de4c1a42-2234-40fc-b543-4617d4fb3e19",
   "metadata": {},
   "source": [
    "- The *ROC* Curve is another common tool used for *Binary Classifiers*\n",
    "- It plots Recall *(also called True Positive Rate/Sensitivity)* against False Positive Rate *(FPR)*\n",
    "- False Positive Rate is the ratio of negative instances that are incorrectly classified as positive\n",
    "    - Which is $1 - True Negative Rate$\n",
    "    - True Negative Rate *(TNR)* is the ratio of negative instances that are correctly classified as negative\n",
    "    - TNR is also called *Specificity*\n",
    "- Thus, ROC curve plots *Sensitivity* versus *1 - Specificity*\n",
    "- Scikit-Learn provides `roc_curve` method which returns *FPR*, *TPR* and *Thresholds*, which can be then plottted"
   ]
  },
  {
   "cell_type": "code",
   "execution_count": 15,
   "id": "e9abab30-9b54-49d9-8281-2484dcda39ba",
   "metadata": {},
   "outputs": [],
   "source": [
    "from sklearn.metrics import roc_curve\n",
    "\n",
    "fpr, tpr, thresholds = roc_curve(y_train_5, y_scores_5)"
   ]
  },
  {
   "cell_type": "code",
   "execution_count": 16,
   "id": "778d492f-da3f-4513-a906-582b16e3298b",
   "metadata": {},
   "outputs": [],
   "source": [
    "def plot_roc_curve(fpr, tpr, label=None):\n",
    "    plt.plot(fpr, tpr, linewidth=2, label=label)\n",
    "    plt.plot([0, 1], [0, 1], 'k--')\n",
    "    plt.xlabel('False Positive Rate (Fall out)', fontsize=16)\n",
    "    plt.ylabel('True Positive Rate (Recall)', fontsize=16)\n",
    "    plt.title('ROC Curve', fontsize=20)\n",
    "    plt.grid()\n",
    "    plt.axis([0, 1, 0, 1])"
   ]
  },
  {
   "cell_type": "code",
   "execution_count": 17,
   "id": "4f2596f3-9e03-4c48-8b9b-7130e03d8709",
   "metadata": {},
   "outputs": [
    {
     "data": {
      "image/png": "[encoded data removed]",
      "text/plain": [
       "<Figure size 432x288 with 1 Axes>"
      ]
     },
     "metadata": {
      "needs_background": "light"
     },
     "output_type": "display_data"
    }
   ],
   "source": [
    "plot_roc_curve(fpr, tpr)\n",
    "plt.show()"
   ]
  },
  {
   "cell_type": "markdown",
   "id": "697ec1fb-ba48-4644-85ea-2d1bd499816b",
   "metadata": {},
   "source": [
    "**NOTE:**\n",
    "- You should prefer the PR Curve whenever the positive class is rare or when you care more about the false positives than the false negatives."
   ]
  },
  {
   "cell_type": "markdown",
   "id": "b4d1a366-c2f0-40ef-9711-28a1c9c0d5b2",
   "metadata": {},
   "source": [
    "---"
   ]
  },
  {
   "cell_type": "markdown",
   "id": "feb9e50f-45a4-4297-b32f-cc06ab326c48",
   "metadata": {},
   "source": [
    "### **Area Under Curver *(AUC)***"
   ]
  },
  {
   "cell_type": "markdown",
   "id": "3092bf37-bb39-4a3b-8a54-81b3357b6e52",
   "metadata": {},
   "source": [
    "- It is the area under the ROC curve\n",
    "- The best AUC score any model can have is 1\n",
    "- A pretty random classifier will have a ROC AUC of 0.5\n",
    "- Scikit-learn provides a method to calculate it, `roc_auc_score`"
   ]
  },
  {
   "cell_type": "code",
   "execution_count": 18,
   "id": "006bed29-7b9b-4208-9e85-3649eddfba35",
   "metadata": {},
   "outputs": [
    {
     "name": "stdout",
     "output_type": "stream",
     "text": [
      "Predicted AUC Score: 0.9604938554008616\n"
     ]
    }
   ],
   "source": [
    "from sklearn.metrics import roc_auc_score\n",
    "\n",
    "predicted_auc_score = roc_auc_score(y_train_5, y_scores_5)\n",
    "print(f'Predicted AUC Score: {predicted_auc_score}')"
   ]
  },
  {
   "cell_type": "markdown",
   "id": "c89a7d01-61cb-4545-a771-cae1169de66b",
   "metadata": {},
   "source": [
    "---\n",
    "---"
   ]
  },
  {
   "cell_type": "markdown",
   "id": "9bc41b57-9083-4442-a6c9-d73ff9b5c34f",
   "metadata": {},
   "source": [
    "# **Conclusion**"
   ]
  },
  {
   "cell_type": "markdown",
   "id": "aaf010e0-72b6-44eb-b849-508b34f232ea",
   "metadata": {},
   "source": [
    "There is no one solution fit all situation here. We need to define our requirements clearly and then choose a metric based on that"
   ]
  }
 ],
 "metadata": {
  "kernelspec": {
   "display_name": "Python 3",
   "language": "python",
   "name": "python3"
  },
  "language_info": {
   "codemirror_mode": {
    "name": "ipython",
    "version": 3
   },
   "file_extension": ".py",
   "mimetype": "text/x-python",
   "name": "python",
   "nbconvert_exporter": "python",
   "pygments_lexer": "ipython3",
   "version": "3.9.5"
  }
 },
 "nbformat": 4,
 "nbformat_minor": 5
}
