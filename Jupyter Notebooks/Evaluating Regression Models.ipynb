{
 "cells": [
  {
   "cell_type": "markdown",
   "id": "0d83deb7-2c29-46ec-a695-b515f508d3bc",
   "metadata": {},
   "source": [
    "# **Evaluating Regression Models**"
   ]
  },
  {
   "cell_type": "markdown",
   "id": "fcf72ed5-0f8f-4935-bbe7-dfa7309da1a4",
   "metadata": {},
   "source": [
    "There are multiple evalution metrics which we can use. Some of them are:\n",
    "- **Mean/Median**\n",
    "- **Standard Deviation**\n",
    "- **R Square/Adjusted R Square**\n",
    "- **Mean Squared Error *(MSE)* / Root Mean Squared Error *(RMSE)***\n",
    "- **Mean Absolute Error *(MAE)***"
   ]
  },
  {
   "cell_type": "markdown",
   "id": "6fa6a99e-8f41-42a8-bee6-896b75725a3b",
   "metadata": {},
   "source": [
    "---"
   ]
  },
  {
   "cell_type": "markdown",
   "id": "046eea0d-aff9-48e6-976d-2c8cd65eee27",
   "metadata": {},
   "source": [
    "## **Preparing Data**"
   ]
  },
  {
   "cell_type": "markdown",
   "id": "e917eb8d-d928-49f4-a63d-bcba8e36f281",
   "metadata": {},
   "source": [
    "### Importing Libraries"
   ]
  },
  {
   "cell_type": "code",
   "execution_count": 1,
   "id": "b08a8af6-0b5f-4b99-a3dd-d1facc4a8fc3",
   "metadata": {},
   "outputs": [],
   "source": [
    "import numpy as np\n",
    "from sklearn.datasets import fetch_california_housing"
   ]
  },
  {
   "cell_type": "markdown",
   "id": "61ee9650-d28e-455e-8404-2e688d4c74e6",
   "metadata": {},
   "source": [
    "### Importing Data"
   ]
  },
  {
   "cell_type": "code",
   "execution_count": 2,
   "id": "ee70ade3-01e1-48a2-aa44-af73e2d526a8",
   "metadata": {},
   "outputs": [],
   "source": [
    "X, y = fetch_california_housing(as_frame=True,\n",
    "                               return_X_y=True)"
   ]
  },
  {
   "cell_type": "markdown",
   "id": "aa7f50a6-4eab-4c87-94c8-e1cf6bbae2a0",
   "metadata": {},
   "source": [
    "Merging the *data* and *target* values so that we can split them into *Train* and *Test* sets together."
   ]
  },
  {
   "cell_type": "markdown",
   "id": "e5c24133-ed53-41b6-a19a-436bd04e30e4",
   "metadata": {},
   "source": [
    "### Splitting the data\n",
    "***Please Note:** I will not be focusing on splitting the data in this notebook*"
   ]
  },
  {
   "cell_type": "code",
   "execution_count": 3,
   "id": "08c33439-a65c-4823-8d93-7df22f39f0b3",
   "metadata": {},
   "outputs": [],
   "source": [
    "from sklearn.model_selection import train_test_split\n",
    "X_train, X_test, y_train, y_test = train_test_split(X, y, test_size=0.2, random_state=42)"
   ]
  },
  {
   "cell_type": "markdown",
   "id": "5e91fda5-8798-4abd-9bef-136b56ed104a",
   "metadata": {},
   "source": [
    "---"
   ]
  },
  {
   "cell_type": "markdown",
   "id": "def72e2d-6993-4088-910a-e37e48d7bd99",
   "metadata": {},
   "source": [
    "## **Preprocessing the data**"
   ]
  },
  {
   "cell_type": "markdown",
   "id": "a793f386-17a6-4556-a927-f21a43fe6c62",
   "metadata": {},
   "source": [
    "Let's quickly look at the our data and see if what kind of data are we dealing with"
   ]
  },
  {
   "cell_type": "code",
   "execution_count": 4,
   "id": "8b7def54-d589-469f-a6a3-bdc263806d61",
   "metadata": {},
   "outputs": [
    {
     "name": "stdout",
     "output_type": "stream",
     "text": [
      "<class 'pandas.core.frame.DataFrame'>\n",
      "RangeIndex: 20640 entries, 0 to 20639\n",
      "Data columns (total 8 columns):\n",
      " #   Column      Non-Null Count  Dtype  \n",
      "---  ------      --------------  -----  \n",
      " 0   MedInc      20640 non-null  float64\n",
      " 1   HouseAge    20640 non-null  float64\n",
      " 2   AveRooms    20640 non-null  float64\n",
      " 3   AveBedrms   20640 non-null  float64\n",
      " 4   Population  20640 non-null  float64\n",
      " 5   AveOccup    20640 non-null  float64\n",
      " 6   Latitude    20640 non-null  float64\n",
      " 7   Longitude   20640 non-null  float64\n",
      "dtypes: float64(8)\n",
      "memory usage: 1.3 MB\n"
     ]
    }
   ],
   "source": [
    "X.info()"
   ]
  },
  {
   "cell_type": "markdown",
   "id": "2f2849fc-70fb-4a63-ba11-02636710fdcb",
   "metadata": {},
   "source": [
    "As we can see there are no categorical values, so we just need to prepare our data with some numerical transformation. We could easily combine our model and all the preprocessing steps into one step using a `pipeline`. But for the sake of simplicity let's just create pre-processing pipeline"
   ]
  },
  {
   "cell_type": "markdown",
   "id": "25311bbf-803c-4d92-a3c2-9ccbad617d20",
   "metadata": {},
   "source": [
    "### Importing Libraries"
   ]
  },
  {
   "cell_type": "code",
   "execution_count": 5,
   "id": "9b78632f-6a0b-4bcf-9e81-573542123096",
   "metadata": {},
   "outputs": [],
   "source": [
    "from sklearn.preprocessing import StandardScaler\n",
    "from sklearn.impute import SimpleImputer\n",
    "from sklearn.pipeline import Pipeline"
   ]
  },
  {
   "cell_type": "markdown",
   "id": "0f979d82-dfc7-4a45-bcb5-22a1f933d9fb",
   "metadata": {},
   "source": [
    "### Creating a pre-processing pipeline"
   ]
  },
  {
   "cell_type": "code",
   "execution_count": 6,
   "id": "fa5f07fe-9b78-4c0a-a6d3-d2fda4653f44",
   "metadata": {},
   "outputs": [],
   "source": [
    "preprocessing = Pipeline(steps=[\n",
    "    ('impute', SimpleImputer()),\n",
    "    ('scaler', StandardScaler())\n",
    "])"
   ]
  },
  {
   "cell_type": "markdown",
   "id": "75fcfad0-8bce-42ac-818d-fe800fc27cbe",
   "metadata": {},
   "source": [
    "### Pre-processing the data"
   ]
  },
  {
   "cell_type": "code",
   "execution_count": 7,
   "id": "6d797487-7bae-4adb-b824-093a48cd7d14",
   "metadata": {},
   "outputs": [],
   "source": [
    "X_train_prepared = preprocessing.fit_transform(X_train)"
   ]
  },
  {
   "cell_type": "markdown",
   "id": "753402b5-02eb-4b91-884b-2d5f23cba31e",
   "metadata": {},
   "source": [
    "---"
   ]
  },
  {
   "cell_type": "markdown",
   "id": "34602874-2495-4c46-82e5-3c8e1b202b2f",
   "metadata": {},
   "source": [
    "## **Preparing a simple regression model**\n",
    "*(For the purpose of this notebook, we will use a simple Linear Regression Model)*"
   ]
  },
  {
   "cell_type": "markdown",
   "id": "fa65937a-a188-440d-a789-3d364f825533",
   "metadata": {},
   "source": [
    "### Importing Library"
   ]
  },
  {
   "cell_type": "code",
   "execution_count": 8,
   "id": "58e3b55e-675f-4bb5-89ed-0eac7a21ba64",
   "metadata": {},
   "outputs": [],
   "source": [
    "from sklearn.linear_model import LinearRegression"
   ]
  },
  {
   "cell_type": "markdown",
   "id": "6a70bc38-cf71-40bc-a78f-454f489bc0d5",
   "metadata": {},
   "source": [
    "### Initializing the model"
   ]
  },
  {
   "cell_type": "code",
   "execution_count": 9,
   "id": "13488340-1dd0-42c8-8e93-06e3592cb34d",
   "metadata": {},
   "outputs": [],
   "source": [
    "lin_reg = LinearRegression()"
   ]
  },
  {
   "cell_type": "markdown",
   "id": "1b4a935b-6691-42a2-b8a1-f8764e772d4a",
   "metadata": {},
   "source": [
    "### Fitting the model to our pre-processed data"
   ]
  },
  {
   "cell_type": "code",
   "execution_count": 10,
   "id": "1b9ee386-4ff4-4259-8100-2b579ec2ba0a",
   "metadata": {},
   "outputs": [
    {
     "data": {
      "text/plain": [
       "LinearRegression()"
      ]
     },
     "execution_count": 10,
     "metadata": {},
     "output_type": "execute_result"
    }
   ],
   "source": [
    "lin_reg.fit(X_train_prepared, y_train)"
   ]
  },
  {
   "cell_type": "markdown",
   "id": "1589c81e-01b1-4f81-bbe3-1c80217deea6",
   "metadata": {},
   "source": [
    "---"
   ]
  },
  {
   "cell_type": "markdown",
   "id": "308970a4-65a3-427e-9e13-cf1f37a4bd32",
   "metadata": {},
   "source": [
    "## **Let's get our preditctions**"
   ]
  },
  {
   "cell_type": "code",
   "execution_count": 11,
   "id": "f3a092eb-f777-4470-8292-e573b5102160",
   "metadata": {},
   "outputs": [],
   "source": [
    "y_pred = lin_reg.predict(X_train_prepared)"
   ]
  },
  {
   "cell_type": "markdown",
   "id": "2d60c54a-9376-4a00-9af7-ef77d69acadb",
   "metadata": {},
   "source": [
    "---"
   ]
  },
  {
   "cell_type": "markdown",
   "id": "a58657d3-ca7d-43d2-a72c-5f9cbc33560f",
   "metadata": {},
   "source": [
    "## **Evaluating the model**"
   ]
  },
  {
   "cell_type": "markdown",
   "id": "0d1e761e-481e-4fd8-adb8-6f65149a74fe",
   "metadata": {},
   "source": [
    "### **Mean/Median**\n",
    "- Gives a rough idea about how much our prediction differ from the actual value\n",
    "- Mean is greatly affected by outliers, so in case your data has outliers then look at *Median*"
   ]
  },
  {
   "cell_type": "code",
   "execution_count": 12,
   "id": "bc1f14e5-ee35-4aa8-af25-99bd9feba1c5",
   "metadata": {},
   "outputs": [
    {
     "name": "stdout",
     "output_type": "stream",
     "text": [
      "Mean of predicted values: 2.0719469373788764\n",
      "Median of predicted values: 2.0221271798382108\n"
     ]
    }
   ],
   "source": [
    "predicted_mean = np.mean(y_pred)\n",
    "predicted_median = np.median(y_pred)\n",
    "\n",
    "print(f'Mean of predicted values: {predicted_mean}')\n",
    "print(f'Median of predicted values: {predicted_median}')"
   ]
  },
  {
   "cell_type": "markdown",
   "id": "c5049930-2c69-47c4-882a-9adb2e01ff72",
   "metadata": {},
   "source": [
    "Here we can see that our predictions are roughly 2 points off the prediction. This could be a pretty big difference if the unit of *MedianHouseVal* is in thousands or even higher."
   ]
  },
  {
   "cell_type": "markdown",
   "id": "6a1313eb-a996-4f6d-a535-a72aa1e54047",
   "metadata": {},
   "source": [
    "### **Standard Deviation**\n",
    "- It is measure of variation of the value from the mean\n",
    "- It helps in understanding the dispersion of the values"
   ]
  },
  {
   "cell_type": "code",
   "execution_count": 13,
   "id": "8db3d091-2dfa-4dba-83bd-5132314d4bdb",
   "metadata": {},
   "outputs": [
    {
     "name": "stdout",
     "output_type": "stream",
     "text": [
      "Std. Variance of predicted values: 0.9049005946869291\n"
     ]
    }
   ],
   "source": [
    "predicted_std = np.std(y_pred)\n",
    "print(f'Std. Variance of predicted values: {predicted_std}')"
   ]
  },
  {
   "cell_type": "markdown",
   "id": "2e9e97c5-ee15-4ab7-9d33-3d357b224765",
   "metadata": {},
   "source": [
    "### **R Square/Adjusted R Square**\n",
    "- R Square measures how much of variability in dependent variable can be explained by the model\n",
    "    - It's the square of the correlation coefficient\n",
    "    - It's a good measure to determine how well the model fits the dependent variables\n",
    "    - It doesn't take into consideration of overfitting problem\n",
    "    - Best possible score is 1\n",
    "- Adjusted R Square penalises additional independent variables added to the model and adjust the metric to prevent the overfitting issue"
   ]
  },
  {
   "cell_type": "code",
   "execution_count": 14,
   "id": "640774c4-9102-4d51-b608-9cbfd19aa4fa",
   "metadata": {},
   "outputs": [
    {
     "name": "stdout",
     "output_type": "stream",
     "text": [
      "R2 score of predicted values: 0.6125511913966952\n"
     ]
    }
   ],
   "source": [
    "from sklearn.metrics import r2_score\n",
    "\n",
    "predicted_r2_score = r2_score(y_train, y_pred)\n",
    "print(f'R2 score of predicted values: {predicted_r2_score}')"
   ]
  },
  {
   "cell_type": "markdown",
   "id": "7e083a52-c15c-4e9b-b497-647adebd1670",
   "metadata": {},
   "source": [
    "As we can see 61% of the dependent variability can be explained by the model"
   ]
  },
  {
   "cell_type": "markdown",
   "id": "5c4cb388-e4a1-49df-94e7-ec63adb23753",
   "metadata": {},
   "source": [
    "### **Mean Squared Error *(MSE)* / Root Mean Squared Error *(RMSE)***\n",
    "- Mean Squared Error\n",
    "    - It is the sum of square of prediction error *(which is real output minus the predicted output)* divided by the number of data points\n",
    "    - It gives an absolute number on how much the predicted result deviate from the actual value\n",
    "    - It doesn't provide much insights but is a good metric to compare different models\n",
    "    - It gives larger penalisation to big prediction error\n",
    "- Root Mean Squared Error\n",
    "    - It's the root of MSE\n",
    "    - More commonly used than MSE\n",
    "    - Since it's a square root, it's a much smaller number and is on the same level as prediction error"
   ]
  },
  {
   "cell_type": "code",
   "execution_count": 15,
   "id": "83db4f3a-7efd-4d9b-867d-1d0584900a86",
   "metadata": {},
   "outputs": [
    {
     "name": "stdout",
     "output_type": "stream",
     "text": [
      "Predicted MSE: 0.5179331255246699\n",
      "Predicted RMSE: 0.7196757085831575\n"
     ]
    }
   ],
   "source": [
    "from sklearn.metrics import mean_squared_error\n",
    "\n",
    "predicted_mse = mean_squared_error(y_train, y_pred)\n",
    "print(f'Predicted MSE: {predicted_mse}')\n",
    "\n",
    "predicted_rmse = np.sqrt(predicted_mse)\n",
    "print(f'Predicted RMSE: {predicted_rmse}')"
   ]
  },
  {
   "cell_type": "markdown",
   "id": "f164d553-72d8-4bf9-be65-9775b997b796",
   "metadata": {},
   "source": [
    "### **Mean Absolute Error *(MAE)***\n",
    "- It is similar to MSE. The only difference is that instead of taking the sum of square of error *(like in MSE)*, it takes the sum of absolute value of error\n",
    "- Compared to MSE or RMSE, it is more direct representation of sum of error terms\n",
    "- It treats all the errors the same"
   ]
  },
  {
   "cell_type": "code",
   "execution_count": 16,
   "id": "2a022e8d-664b-4cbf-9962-2e03d56602f7",
   "metadata": {},
   "outputs": [
    {
     "name": "stdout",
     "output_type": "stream",
     "text": [
      "Predicted MAE: 0.5286283596581934\n"
     ]
    }
   ],
   "source": [
    "from sklearn.metrics import mean_absolute_error\n",
    "\n",
    "predicted_mae = mean_absolute_error(y_train, y_pred)\n",
    "print(f'Predicted MAE: {predicted_mae}')"
   ]
  },
  {
   "cell_type": "markdown",
   "id": "1f618adb-0b3b-4661-b735-742bd4afd3dd",
   "metadata": {},
   "source": [
    "---\n",
    "---"
   ]
  }
 ],
 "metadata": {
  "kernelspec": {
   "display_name": "Python 3",
   "language": "python",
   "name": "python3"
  },
  "language_info": {
   "codemirror_mode": {
    "name": "ipython",
    "version": 3
   },
   "file_extension": ".py",
   "mimetype": "text/x-python",
   "name": "python",
   "nbconvert_exporter": "python",
   "pygments_lexer": "ipython3",
   "version": "3.9.5"
  }
 },
 "nbformat": 4,
 "nbformat_minor": 5
}
