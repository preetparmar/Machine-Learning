{
 "cells": [
  {
   "cell_type": "markdown",
   "id": "04118e10-8c7e-4055-aea6-fdfd61dd5eac",
   "metadata": {},
   "source": [
    "# Gradient Descent"
   ]
  },
  {
   "cell_type": "markdown",
   "id": "5b66716f-5a3a-41b9-b35d-4988af67856a",
   "metadata": {},
   "source": [
    "It is a generic optimatization algorithm which is capable of finding the optimal soultion to a wide range of problems. \n",
    "The general idea of a Gradient Descent is to tweak the parameters iteratively in order to minimize a cost function."
   ]
  },
  {
   "cell_type": "markdown",
   "id": "f7ac435b-701d-4264-8d20-51372c379d43",
   "metadata": {},
   "source": [
    "---"
   ]
  },
  {
   "cell_type": "markdown",
   "id": "359b0bdb-a00d-4548-94e3-655cd1776e81",
   "metadata": {},
   "source": [
    "## Preparing the data which can be used later"
   ]
  },
  {
   "cell_type": "code",
   "execution_count": 1,
   "id": "41ed5ed3-3220-433e-8eb8-d74ec0c04cd6",
   "metadata": {},
   "outputs": [],
   "source": [
    "import numpy as np  # Importing Library\n",
    "X = 2 * np.random.rand(100, 1)\n",
    "y = 4 + 3 * X + np.random.rand(100, 1) \n",
    "X_new = np.array([[0], [2]])"
   ]
  },
  {
   "cell_type": "markdown",
   "id": "a7b2371d-6ac8-44ae-9dd8-b332c5a93645",
   "metadata": {},
   "source": [
    "Visualizing the data"
   ]
  },
  {
   "cell_type": "code",
   "execution_count": 2,
   "id": "c4424bf9-baa0-4863-b5d8-a6fabb5f6584",
   "metadata": {},
   "outputs": [
    {
     "data": {
      "image/png": "[encoded data removed]",
      "text/plain": [
       "<Figure size 432x288 with 1 Axes>"
      ]
     },
     "metadata": {
      "needs_background": "light"
     },
     "output_type": "display_data"
    }
   ],
   "source": [
    "import matplotlib.pyplot as plt  # Importing Library\n",
    "plt.plot(X, y, \"b.\")\n",
    "plt.xlabel(\"$X$\", fontsize=15)\n",
    "plt.ylabel(\"$Y$\", rotation=0, fontsize=15)\n",
    "plt.axis([0, 2, 0, 15])\n",
    "plt.show()"
   ]
  },
  {
   "cell_type": "markdown",
   "id": "55a80d01-ad5e-48ba-981c-668c45cc8ee6",
   "metadata": {},
   "source": [
    "---"
   ]
  },
  {
   "cell_type": "markdown",
   "id": "a57772d8-a725-4334-9dd6-f7d9864652d0",
   "metadata": {},
   "source": [
    "## Applying Linear Regression as a base standard"
   ]
  },
  {
   "cell_type": "code",
   "execution_count": 3,
   "id": "4caccb95-2225-4d71-a55e-835c709a3053",
   "metadata": {},
   "outputs": [
    {
     "name": "stdout",
     "output_type": "stream",
     "text": [
      "Intercept: [4.50560009]\n",
      "Coefficient: [[2.99583004]]\n",
      "Prediction\n",
      "[[ 4.50560009]\n",
      " [10.49726017]]\n"
     ]
    }
   ],
   "source": [
    "from sklearn.linear_model import LinearRegression\n",
    "lin_reg = LinearRegression()\n",
    "lin_reg.fit(X, y)\n",
    "print(f'Intercept: {lin_reg.intercept_}')\n",
    "print(f'Coefficient: {lin_reg.coef_}')\n",
    "\n",
    "print('Prediction')\n",
    "print(lin_reg.predict(X_new))"
   ]
  },
  {
   "cell_type": "markdown",
   "id": "625e6f1f-8182-49e6-af75-f2f243466009",
   "metadata": {},
   "source": [
    "---"
   ]
  },
  {
   "cell_type": "markdown",
   "id": "1faaf753-7680-4b37-869c-433ced53f3d8",
   "metadata": {},
   "source": [
    "## General Process of Gradient Descent"
   ]
  },
  {
   "cell_type": "markdown",
   "id": "d09f7bc1-b1b4-4c3d-9741-6e163cc5fbc6",
   "metadata": {},
   "source": [
    "- We start at a random value, this is called **Random Initialization**\n",
    "- Then we calculate the cost function (eg. MSE) for that value\n",
    "- We then move slowly to the next value where the cost function is decreasing\n",
    "    - The steps by which we move is determined by the **Learning Rate** hyperparameter\n",
    "- Repeating the above steps will eventually result in the most optimized value"
   ]
  },
  {
   "cell_type": "markdown",
   "id": "a75ecef1-ac1c-4a57-bba3-65b8570ca6c4",
   "metadata": {},
   "source": [
    "## Things to remember about Gradient Descent Algorithm\n",
    "- Make sure all the features have a similar scale or else it will take much longer to converge on to the optimal solution"
   ]
  },
  {
   "cell_type": "markdown",
   "id": "4c0c7ae7-0848-49f2-b7c7-a6ac93083fda",
   "metadata": {},
   "source": [
    "---"
   ]
  },
  {
   "cell_type": "markdown",
   "id": "621b5dca-df1a-41d2-a0ce-42a07eb8b482",
   "metadata": {},
   "source": [
    "## Types of Gradient Descent Algorithm"
   ]
  },
  {
   "cell_type": "markdown",
   "id": "f6ee30b0-dfd5-4aa7-a01f-29cbb22fb90f",
   "metadata": {},
   "source": [
    "- Batch Gradient Descent\n",
    "- Stochstic Gradient Descent\n",
    "- Mini Batch Gradient Descent"
   ]
  },
  {
   "cell_type": "markdown",
   "id": "d30676bb-cd7c-468a-9d81-bd0547c2e995",
   "metadata": {},
   "source": [
    "### Batch Gradient Descent:\n",
    "- It uses the whole batch of training data at every step\n",
    "- As a result it is very slow on large training sets\n",
    "- But it scales very well with the number of features\n",
    "- Comparing a Linear Regression model where there are hundreds of features, Batch Gradient Descent is much faster than the Normal Equation or the SVD decomposition "
   ]
  },
  {
   "cell_type": "markdown",
   "id": "6b929f65-cb74-4a07-8e37-562e60ed2657",
   "metadata": {},
   "source": [
    "### Stochastic Gradient Descent:\n",
    "- Instead of using the entire batch of training data every time, this picks a random instance in a training set and computes the gradients based only on that single instance\n",
    "- As a result, this is much faster and it also makes it possible to train on huge training sets since only one instance needs to be in the memory\n",
    "- Due to its stochastic nature, the algorithm is much less regular; instead of gently decreasing, the cost function keeps bouncing and decreasing only on average\n",
    "- Over time it will end up very close to the minimum, but once it gets there it will continue to bounce around and never settle down. So once the algorithm stops, the solution is good but not optimal\n",
    "- The randomness is good to escape any local minimum, but bad since it means that the algorithm will never settle at the minimum\n",
    "- Solution to the above problem, is to reduce the learning rate of the model so that in the beginning it's high enough to jump out of local minimum but as it progress the learning rate is reduced to reach the optimal solution\n",
    "- The function that determines the learning rate at each iteration is called *Learnign Schedule*\n",
    "- If the learning rate is reduced too quickly then you may end up on a sub-optimal solution, whereas if the learning rate is reduced too slowly then you will end up jumping around the optimal solution for quite a while\n",
    "- Another approach is to run the code until the loss drop of the cost function is not less than a certain value called *Tolerance*"
   ]
  },
  {
   "cell_type": "markdown",
   "id": "431d9cd9-6703-4886-b431-a2cc17328dba",
   "metadata": {},
   "source": [
    "#### Performing Linear Regression using Stochastic Gradient Descent approach:"
   ]
  },
  {
   "cell_type": "markdown",
   "id": "f7b55652-c2b8-4a72-b2a8-e14bb5fe6e53",
   "metadata": {},
   "source": [
    "The following code applies Stochastic Gradient Regressor, which runs for a maximum of 1000 epochs *(iterations)*, or untill the loss drops by less than 0.001 during one epoch *(tolerance)*. It starts with a learning rate of 0.1 *(eta0)*, using the default learning schedule. It doesn't use any type of regularization *(penalty)*."
   ]
  },
  {
   "cell_type": "code",
   "execution_count": 4,
   "id": "1a53fffc-6a4e-49de-9e5d-183c13f1b2f5",
   "metadata": {},
   "outputs": [
    {
     "name": "stdout",
     "output_type": "stream",
     "text": [
      "Intercept: [4.49888819]\n",
      "Coefficient: [3.00451325]\n",
      "\n",
      "Predictions\n",
      "[ 4.49888819 10.5079147 ]\n"
     ]
    }
   ],
   "source": [
    "from sklearn.linear_model import SGDRegressor\n",
    "sgd_reg = SGDRegressor(max_iter=1000,\n",
    "                      tol=1e-3,\n",
    "                      eta0=0.1,\n",
    "                      penalty=\"none\")\n",
    "sgd_reg.fit(X, y.ravel())  #ravel returns a 1D array\n",
    "print(f'Intercept: {sgd_reg.intercept_}')\n",
    "print(f'Coefficient: {sgd_reg.coef_}')\n",
    "\n",
    "print('\\nPredictions')\n",
    "print(sgd_reg.predict(X_new))"
   ]
  },
  {
   "cell_type": "markdown",
   "id": "a0e36917-d88b-446f-94fa-af850711a526",
   "metadata": {},
   "source": [
    "As we can see that the solution is quite close to the Linear Regression Model"
   ]
  },
  {
   "cell_type": "markdown",
   "id": "94ba54e1-9588-448b-8ced-02b9079fbe52",
   "metadata": {},
   "source": [
    "### Mini-batch Gradient Descent:"
   ]
  },
  {
   "cell_type": "markdown",
   "id": "dc68084c-998d-40df-8ae6-ed2775da3db8",
   "metadata": {},
   "source": [
    "- It combines both Batch and Stochastic Gradient Descent algorithms\n",
    "- At each step, instead of comuting the gradients based on a single instance of the training set *(Stochastic Gradient Descent)* or based on the full training set *(Batch Gradient Descent)*, it computes based on a small random set of the training set called *Mini Batches*\n",
    "- Main advantage:\n",
    "    - Performance gain over the Batch Gradient Descent algorithm\n",
    "    - Less eratic than the Stochastic Gradient Descent algorithm\n",
    "- It will get closer to the optimal solution, but it may be harder for it to escape the local minimum due to less eratic behavior "
   ]
  },
  {
   "cell_type": "markdown",
   "id": "7d774969-b400-4c1b-8044-c2f46e598412",
   "metadata": {},
   "source": [
    "---"
   ]
  },
  {
   "cell_type": "markdown",
   "id": "4df74b2f-2f2c-4786-87be-1fc394d4c901",
   "metadata": {},
   "source": [
    "## Comparisor of algorithms for Linear Regression"
   ]
  },
  {
   "cell_type": "markdown",
   "id": "077a3aa0-13a2-4063-bf16-f35cb60c8dd4",
   "metadata": {},
   "source": [
    "|Algorithm|Large *m*|Out-of-core support|Large *n*|Hyperparameters|Scalling required|Scikit-Learn|\n",
    "|---|---|---|---|---|---|---|\n",
    "|Normal Equation|Fast|No|Slow|0|No|N/A|\n",
    "|SVD|Fast|No|Slow|0|No|`LinearRegression`|\n",
    "|Batch GD|Slow|No|Fast|2|Yes|`SGDRegressor`|\n",
    "|Stochastic GD|Fast|Yes|Fast|>=2|Yes|`SGDRegressor`|\n",
    "|Mini-batch GD|Fast|Yes|Fast|>=2|Yes|`SGDRegressor`|"
   ]
  },
  {
   "cell_type": "markdown",
   "id": "d04e39cf-f2b2-434e-9502-a178bf117b4c",
   "metadata": {},
   "source": [
    "---"
   ]
  },
  {
   "cell_type": "markdown",
   "id": "e7a33810-dc85-45ad-8d32-e97bb7eb2e24",
   "metadata": {},
   "source": [
    "## General Terms"
   ]
  },
  {
   "cell_type": "markdown",
   "id": "f4c3b128-fce4-4ce6-bdb8-163b4df6c629",
   "metadata": {},
   "source": [
    "- **Random Initialization**\n",
    "    - Starting the Gradient Descent Algorithm at a random initial value\n",
    "- **Learning Rate**\n",
    "    - Size of the step by which the algorithm moves to the next step of its evaluation\n",
    "    - If the learning rate is too low, then it will take too long for the algorithm to converge on the most optimal souliton\n",
    "    - If the learning rate is too high, then the algorithm will bounce around and not settle on the most optimal solution\n",
    "    - In order to find a good learning rate, we can use `Grid Search`\n",
    "- **Local Minimum**\n",
    "    - In cases where the cost function isn't a regular bowl shaped, there could be a point which is the most optimal solution since there could be some sort of holes, ridges, plateaus or irregular terrain\n",
    "- **Global Minimum**\n",
    "    - This is the most optimal solution in case a local minimum is present\n",
    "- **Convex Function**\n",
    "    - A function where if you pick any two points on the curve, the line joining them never crosses the curve. This imples that there are no local minimum, just one global minimum\n",
    "    - MSE function of a Linear Regression is a convex function, so a gradient descent approach on a linear regression is gaunranteed to reach the global minimum\n",
    "- **Epoch**\n",
    "    - Iterations of the model\n",
    "- **Learning Schedule**\n",
    "    - The function that determines the learnign rate of the model\n",
    "    - If the learning rate is reduced too quickly then we may end up on a sub-optimal solution\n",
    "    - If the learning rate is reduced too slowly then we will end up jumping around the optimal solution for too long\n",
    "- **Tolerance**\n",
    "    - The threshold of the loss drop for a cost function during one epoch which determines if we need to stop the code\n",
    "    - Useful in cases where we are not sure about how long we need to run a particular model"
   ]
  },
  {
   "cell_type": "markdown",
   "id": "08ae06db-8250-4ae7-81d5-5a2adf732f83",
   "metadata": {},
   "source": [
    "---"
   ]
  },
  {
   "cell_type": "markdown",
   "id": "41eb6d4f-3e78-4b8b-bc92-667eceac87b0",
   "metadata": {},
   "source": [
    "## Credits\n",
    "- Complete credit goes to Hands-on Machine Learning  with  Scikit-Learn, Keras & TensorFlow book by Aurélien Géron\n",
    "- This notebook is my understanding of the topic"
   ]
  }
 ],
 "metadata": {
  "kernelspec": {
   "display_name": "Python 3",
   "language": "python",
   "name": "python3"
  },
  "language_info": {
   "codemirror_mode": {
    "name": "ipython",
    "version": 3
   },
   "file_extension": ".py",
   "mimetype": "text/x-python",
   "name": "python",
   "nbconvert_exporter": "python",
   "pygments_lexer": "ipython3",
   "version": "3.9.5"
  }
 },
 "nbformat": 4,
 "nbformat_minor": 5
}
