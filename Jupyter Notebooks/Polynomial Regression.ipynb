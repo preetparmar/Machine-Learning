{
 "cells": [
  {
   "cell_type": "markdown",
   "id": "bccde7eb-cafe-4634-b1f1-2d05f32c90e2",
   "metadata": {},
   "source": [
    "# Polynomial Regression"
   ]
  },
  {
   "cell_type": "markdown",
   "id": "19fb2fe7-f5c3-4fb6-9274-8cf185860654",
   "metadata": {},
   "source": [
    "An algorithm to train a *Linear Model* which doesn't fit a straight line *(majority of the cases)*. We add powers to each of the features in order to create new features and then train the linear model on this extended set of features."
   ]
  },
  {
   "cell_type": "markdown",
   "id": "06b3b1e8-526b-4f28-a042-69c087c07b63",
   "metadata": {},
   "source": [
    "## Preparing the data"
   ]
  },
  {
   "cell_type": "code",
   "execution_count": 1,
   "id": "02084089-e3eb-48f4-8def-ecad49268f1c",
   "metadata": {},
   "outputs": [],
   "source": [
    "import numpy as np\n",
    "X = 6 * np.random.rand(100, 1) - 3\n",
    "y = 0.5 * X**2 + X + 2 + np.random.randn(100, 1)"
   ]
  },
  {
   "cell_type": "markdown",
   "id": "f9899406-5297-46fa-a801-4aaece47a222",
   "metadata": {},
   "source": [
    "### Visualizing the data"
   ]
  },
  {
   "cell_type": "code",
   "execution_count": 2,
   "id": "0e0fd7f9-c624-416c-88ee-4c7c363e6e05",
   "metadata": {},
   "outputs": [
    {
     "data": {
      "image/png": "[encoded data removed]",
      "text/plain": [
       "<Figure size 432x288 with 1 Axes>"
      ]
     },
     "metadata": {
      "needs_background": "light"
     },
     "output_type": "display_data"
    }
   ],
   "source": [
    "import matplotlib.pyplot as plt\n",
    "plt.plot(X, y, \"b.\")\n",
    "plt.xlabel(\"X\", fontsize=16)\n",
    "plt.ylabel(\"y\", fontsize=16, rotation=0)\n",
    "plt.axis([-3, 3, 0, 10])\n",
    "plt.show()"
   ]
  },
  {
   "cell_type": "markdown",
   "id": "c7613fa8-7941-40c2-941b-08d139b92fcf",
   "metadata": {},
   "source": [
    "As we can see, a starign line will not fit the curve perfectly. So we will be using **Polynomial Regression**."
   ]
  },
  {
   "cell_type": "markdown",
   "id": "a7dd5fca-6c1c-4bc5-a6b4-271485e3c7c1",
   "metadata": {},
   "source": [
    "## Implemeting Polynomial Regression "
   ]
  },
  {
   "cell_type": "markdown",
   "id": "e8ba2422-85f6-49f9-bfbf-24a9aaef99e9",
   "metadata": {},
   "source": [
    "We will be using `PolynomialFeatures` from `sklearn` in order to add the polynomial features\n",
    "\n",
    "[Link to Scikit Learn: `PolynomialFeatures`](https://scikit-learn.org/stable/modules/generated/sklearn.preprocessing.PolynomialFeatures.html)"
   ]
  },
  {
   "cell_type": "code",
   "execution_count": 3,
   "id": "a562eff1-5137-48ce-b413-26d454771589",
   "metadata": {},
   "outputs": [],
   "source": [
    "from sklearn.preprocessing import PolynomialFeatures\n",
    "poly_features = PolynomialFeatures(degree=2, include_bias=False)\n",
    "X_poly = poly_features.fit_transform(X)"
   ]
  },
  {
   "cell_type": "markdown",
   "id": "f78945a1-332a-400d-94cd-b62f29e79eaa",
   "metadata": {},
   "source": [
    "Comparing the two values *(one without polynomial features and one with)"
   ]
  },
  {
   "cell_type": "code",
   "execution_count": 4,
   "id": "58eced49-b6ec-47b3-8bff-c1363d455b99",
   "metadata": {},
   "outputs": [
    {
     "name": "stdout",
     "output_type": "stream",
     "text": [
      "Original: [-1.68683247]\n",
      "PolyFeatures: [-1.68683247  2.84540377]\n"
     ]
    }
   ],
   "source": [
    "print(f'Original: {X[0]}')\n",
    "print(f'PolyFeatures: {X_poly[0]}')"
   ]
  },
  {
   "cell_type": "markdown",
   "id": "34fac40f-d8df-4cc7-bc74-12ae14b47a00",
   "metadata": {},
   "source": [
    "X_poly contains the original feature plus the square of this feature, since we chose `degree`=2"
   ]
  },
  {
   "cell_type": "markdown",
   "id": "3ebba802-d7c8-46ce-bca7-5f1775c40be5",
   "metadata": {},
   "source": [
    "Now, we can fit a `LinearRegression` model to this extended training data"
   ]
  },
  {
   "cell_type": "code",
   "execution_count": 5,
   "id": "43700fc7-47d2-4ff4-b23e-33f9f93a0586",
   "metadata": {},
   "outputs": [
    {
     "name": "stdout",
     "output_type": "stream",
     "text": [
      "Intercept: [2.00731944]\n",
      "Coefficient: [[0.95512261 0.48329889]]\n"
     ]
    }
   ],
   "source": [
    "from sklearn.linear_model import LinearRegression\n",
    "lin_reg = LinearRegression()\n",
    "lin_reg.fit(X_poly, y)\n",
    "print(f'Intercept: {lin_reg.intercept_}')\n",
    "print(f'Coefficient: {lin_reg.coef_}')"
   ]
  },
  {
   "cell_type": "markdown",
   "id": "d6467e27-be10-4605-bac2-d69230c7b7e7",
   "metadata": {},
   "source": [
    "When there are multiple features, Polynomial Regression is capable of finding relationships between the features. This is made possible since `PolynomialFeatures` also adds all combination of features up to the given degree. For example, if there were two feaures a and b, `PolynomialFeatures` with `degree`=3 would not only add the features, $a^2$, $a^3$, $b^2$, and $b^3$, but also the combination $ab$, $a^2b$, and $ab^2$."
   ]
  },
  {
   "cell_type": "markdown",
   "id": "7e5876fd-0322-449d-9c44-873fe5ca189b",
   "metadata": {},
   "source": [
    "## Visualizing the result"
   ]
  },
  {
   "cell_type": "code",
   "execution_count": 6,
   "id": "12802db6-48e8-47f6-b182-f9c4b76140e7",
   "metadata": {},
   "outputs": [
    {
     "data": {
      "image/png": "[encoded data removed]",
      "text/plain": [
       "<Figure size 432x288 with 1 Axes>"
      ]
     },
     "metadata": {
      "needs_background": "light"
     },
     "output_type": "display_data"
    }
   ],
   "source": [
    "X_new=np.linspace(-3, 3, 100).reshape(100, 1)  # Creating a grid of values in order to plot and get predictions\n",
    "X_new_poly = poly_features.transform(X_new)  # Applying the PolynomialFeatures to the new grid values\n",
    "y_new = lin_reg.predict(X_new_poly)  # Getting predictions for those new Polynomial Features\n",
    "plt.plot(X, y, \"b.\")  # Plotting the original graph\n",
    "plt.plot(X_new, y_new, \"r-\", linewidth=2, label=\"Predictions\")  # Plotting the prediction\n",
    "plt.xlabel(\"$X$\", fontsize=18)\n",
    "plt.ylabel(\"$y$\", rotation=0, fontsize=18)\n",
    "plt.legend(loc=\"upper left\", fontsize=14)\n",
    "plt.axis([-3, 3, 0, 10])\n",
    "plt.show()"
   ]
  },
  {
   "cell_type": "markdown",
   "id": "eea4d365-1b86-4862-b7d1-cbae2cec671d",
   "metadata": {},
   "source": [
    "## Evaluating your model"
   ]
  },
  {
   "cell_type": "markdown",
   "id": "9f6ee8a9-6e98-47e5-b624-08d248170968",
   "metadata": {},
   "source": [
    "We can use **cross-validation** to get an estimate of a model's general performace. \n",
    "- If a model performs well on the trainig data but generalizes poorly, then the model is overfitting\n",
    "- If it performs poorly on both, then it is underfitting\n",
    "\n",
    "Another way is to use **Learning Curves**\n",
    "- These are the plots of model's performance on the training set and the validation set as a function of training set size\n",
    "- To generate the plot, we need to train the model several times on different sized subsets of the training set."
   ]
  },
  {
   "cell_type": "markdown",
   "id": "00786d09-e223-41a9-98ea-d7ef0f07a20f",
   "metadata": {},
   "source": [
    "## Learning Curves"
   ]
  },
  {
   "cell_type": "markdown",
   "id": "f3b4faa9-6df7-496e-802c-9fc0a6aeda63",
   "metadata": {},
   "source": [
    "Let's implement the learning curves for the above model"
   ]
  },
  {
   "cell_type": "code",
   "execution_count": 7,
   "id": "f4804585-7e19-41bc-8449-0aa6aa6e6b25",
   "metadata": {},
   "outputs": [],
   "source": [
    "from sklearn.metrics import mean_squared_error\n",
    "from sklearn.model_selection import train_test_split\n",
    "\n",
    "def plot_learning_curves(model, X, y):\n",
    "    X_train, X_val, y_train, y_val = train_test_split(X, y, test_size=0.2, random_state=10)\n",
    "    train_errors, val_errors = [], []\n",
    "    for m in range(1, len(X_train)):\n",
    "        model.fit(X_train[:m], y_train[:m])\n",
    "        y_train_predict = model.predict(X_train[:m])\n",
    "        y_val_predict = model.predict(X_val)\n",
    "        train_errors.append(mean_squared_error(y_train[:m], y_train_predict))\n",
    "        val_errors.append(mean_squared_error(y_val, y_val_predict))\n",
    "\n",
    "    plt.plot(np.sqrt(train_errors), \"r-+\", linewidth=2, label=\"train\")\n",
    "    plt.plot(np.sqrt(val_errors), \"b-\", linewidth=3, label=\"val\")\n",
    "    plt.legend(loc=\"upper right\", fontsize=14)\n",
    "    plt.xlabel(\"Training set size\", fontsize=14)\n",
    "    plt.ylabel(\"RMSE\", fontsize=14)"
   ]
  },
  {
   "cell_type": "markdown",
   "id": "0b1f3a5b-ed82-4b82-ba80-16041b2eb25a",
   "metadata": {},
   "source": [
    "## Learning Curves for a Linear Regression Model\n",
    "*(Since we know the data is quadratic in nature, we expect the Linear Model to underfit the data)*"
   ]
  },
  {
   "cell_type": "markdown",
   "id": "106e31de-c795-409a-9085-62db7cfe1250",
   "metadata": {},
   "source": [
    "Let's create and process a normal Linear Regression Model"
   ]
  },
  {
   "cell_type": "code",
   "execution_count": 8,
   "id": "6bac0ee0-0113-45d5-b67a-cfe5bd00dd7b",
   "metadata": {},
   "outputs": [
    {
     "data": {
      "image/png": "[encoded data removed]",
      "text/plain": [
       "<Figure size 432x288 with 1 Axes>"
      ]
     },
     "metadata": {
      "needs_background": "light"
     },
     "output_type": "display_data"
    }
   ],
   "source": [
    "lin_reg = LinearRegression()\n",
    "plot_learning_curves(lin_reg, X, y)\n",
    "plt.axis([0, 80, 0, 3])\n",
    "plt.show()"
   ]
  },
  {
   "cell_type": "markdown",
   "id": "b52b6041-9b04-4015-b439-86145544f041",
   "metadata": {},
   "source": [
    "Looking at the graph above we can see:\n",
    "- Training Set:\n",
    "    - When there are only one or two instances in the training set, the model can fit them perfectly that's why the curve starts at 0\n",
    "    - As new instances are added in RMSE *(error)* starts increasing as it's impossible for the model to fit the data perfectly\n",
    "    - The error keeps on increases utill it reaches a plateau, at which point adding new instances to the training set doesn't effect the average error\n",
    "- Valuation Set:\n",
    "    - When there are only few instances in the training set, it is not capable of generalizing properly, that's why we see a huge RMSE at the beginning\n",
    "    - As more values are added in, the model is capable to generalize a little better and the error goes down\n",
    "    - The error then remains constant as a starigt line can't fit the data properly\n",
    "- The gap between the Training Set and Valuation Set is very close, this is typical when the model is **Underfitting**"
   ]
  },
  {
   "cell_type": "markdown",
   "id": "6cbd9b27-f82b-4afa-a202-da7c52b60a35",
   "metadata": {},
   "source": [
    "### Learning Curves for a Polynomial Regression Model\n",
    "*(we will use a higher degree model so that we can see how an overfitting chart looks like)*"
   ]
  },
  {
   "cell_type": "markdown",
   "id": "ba6efd0c-b732-441d-a72e-81df9de34cfe",
   "metadata": {},
   "source": [
    "Let's create a pipeline for the Polynomial Regression Model and plot the learning curves"
   ]
  },
  {
   "cell_type": "code",
   "execution_count": 9,
   "id": "231ff09b-45d9-4c32-8e08-3ff0a695d1a5",
   "metadata": {},
   "outputs": [
    {
     "data": {
      "image/png": "[encoded data removed]",
      "text/plain": [
       "<Figure size 432x288 with 1 Axes>"
      ]
     },
     "metadata": {
      "needs_background": "light"
     },
     "output_type": "display_data"
    }
   ],
   "source": [
    "from sklearn.pipeline import Pipeline\n",
    "polynomial_regression = Pipeline([\n",
    "    ('poly_features', PolynomialFeatures(degree=10, include_bias=False)),\n",
    "    ('lin_reg', LinearRegression())\n",
    "])\n",
    "plot_learning_curves(polynomial_regression, X, y)\n",
    "plt.axis([0, 80, 0, 3])\n",
    "plt.show()"
   ]
  },
  {
   "cell_type": "markdown",
   "id": "85bcce51-865d-4b3c-aee0-513d3a1cc1ed",
   "metadata": {},
   "source": [
    "Looking at the graph above:\n",
    "- The error on the trainig set is much lower than the Linear Regression model\n",
    "- There is gap between the curves. This means that the model performs significantly better on the training set than on the validation set, which is a sign of **Overfitting** the data\n",
    "- One way to improve an overfitting the model is to feed more training data untill the validation error meets the training error"
   ]
  },
  {
   "cell_type": "markdown",
   "id": "653d8793-ea52-4474-a0c6-46bd56e4e241",
   "metadata": {},
   "source": [
    "---"
   ]
  },
  {
   "cell_type": "markdown",
   "id": "17a6d15d-1497-4590-9220-8fcdf3cd3c0c",
   "metadata": {},
   "source": [
    "## Credits"
   ]
  },
  {
   "cell_type": "markdown",
   "id": "4d972e60-d42d-4fbf-87a2-f82234420bac",
   "metadata": {},
   "source": [
    "- All the credit goes to \"Hands-On Machine Learning withScikit-Learn, Keras, andTensorFlow\" book by \"Aurélien Géron\"\n",
    "- I went through Chapter 4: Traning Models for the above notes"
   ]
  }
 ],
 "metadata": {
  "kernelspec": {
   "display_name": "Python 3",
   "language": "python",
   "name": "python3"
  },
  "language_info": {
   "codemirror_mode": {
    "name": "ipython",
    "version": 3
   },
   "file_extension": ".py",
   "mimetype": "text/x-python",
   "name": "python",
   "nbconvert_exporter": "python",
   "pygments_lexer": "ipython3",
   "version": "3.9.5"
  }
 },
 "nbformat": 4,
 "nbformat_minor": 5
}
