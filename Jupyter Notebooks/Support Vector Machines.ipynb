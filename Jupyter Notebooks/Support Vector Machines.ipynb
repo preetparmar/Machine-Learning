{
 "cells": [
  {
   "cell_type": "markdown",
   "id": "17e95e20-ac05-48b6-9b4b-c6519b96741a",
   "metadata": {},
   "source": [
    "# **Support Vector Machine**"
   ]
  },
  {
   "cell_type": "markdown",
   "id": "b0fe8b29-a48a-47ad-a9cb-a44a690939c7",
   "metadata": {},
   "source": [
    "- It's very powerful model which is capable of:\n",
    "    - Linear Classification\n",
    "    - Non-linear Classification\n",
    "    - Linear Regression\n",
    "    - Non-linear Regression\n",
    "    - Outlier Detection\n",
    "- They are binary classifiers"
   ]
  },
  {
   "cell_type": "markdown",
   "id": "be7f5026-5306-47e5-b683-f6b34a0c23d7",
   "metadata": {},
   "source": [
    "---\n",
    "---"
   ]
  },
  {
   "cell_type": "markdown",
   "id": "f83c236a-11fa-4c40-853e-846e32354aa6",
   "metadata": {},
   "source": [
    "# **SVM Classification**"
   ]
  },
  {
   "cell_type": "markdown",
   "id": "2117b2f9-89dc-43f3-aa71-94daa2ac8478",
   "metadata": {},
   "source": [
    "The general idea behind a *SVM Classification* is to try and seperate the classes and fit a street between them.\n",
    "- It tries to fit the widest street possible between the classes *(known as Large Margin Classifier)*\n",
    "- Adding more training instances off the street will not affect the decision boundary at all, since it's fully determined by the support vectors"
   ]
  },
  {
   "cell_type": "markdown",
   "id": "92629389-19c1-4ca1-b6df-93ce2cb101d4",
   "metadata": {},
   "source": [
    "There are two types of *SVMs*:\n",
    "- Hard Margin Classification\n",
    "- Soft Margin Classification"
   ]
  },
  {
   "cell_type": "markdown",
   "id": "126f5b5c-b6e1-41e2-9c6e-9863399f8d55",
   "metadata": {},
   "source": [
    "## *Hard Margin Classification*\n",
    "- It strictly imposes that all the instances must be off the street and on the right side of the street\n",
    "- There are two main issues with this:\n",
    "    - It only works if the data is linearly seperable\n",
    "    - It's sensitive to any outlier"
   ]
  },
  {
   "cell_type": "markdown",
   "id": "3976d209-acef-435e-a9cd-2ba10638c4c6",
   "metadata": {},
   "source": [
    "## *Soft Margin Classification*\n",
    "- It doesn't have restrictions as *Hard Margin Classification*\n",
    "- It tries to find a good balance between keeping the street as wide as possible and limiting any margin violations"
   ]
  },
  {
   "cell_type": "markdown",
   "id": "0d7a14bd-d003-48c7-8115-6d348498618f",
   "metadata": {},
   "source": [
    "I will implement SVC on both *linear* and *non-linear* data using three different methods:\n",
    "- [`LinearSVC`](https://scikit-learn.org/stable/modules/generated/sklearn.svm.SVC.html)\n",
    "- [`SVC` with `kernel`](https://scikit-learn.org/stable/modules/generated/sklearn.svm.LinearSVC.html)\n",
    "- [`SGDClassifier`](https://scikit-learn.org/stable/modules/generated/sklearn.linear_model.SGDClassifier.html)"
   ]
  },
  {
   "cell_type": "markdown",
   "id": "506e4f69-7ba5-461e-ac45-12303a38aa0f",
   "metadata": {},
   "source": [
    "---"
   ]
  },
  {
   "cell_type": "markdown",
   "id": "59e7aca2-8c17-4619-a402-64628f5ce22b",
   "metadata": {},
   "source": [
    "## **Linear SVM Classification**"
   ]
  },
  {
   "cell_type": "markdown",
   "id": "286e9f88-020b-4c16-80df-671cc0815e27",
   "metadata": {},
   "source": [
    "Preparing the data"
   ]
  },
  {
   "cell_type": "code",
   "execution_count": 8,
   "id": "32f0ac18-9802-430a-830f-4afc541a9859",
   "metadata": {},
   "outputs": [],
   "source": [
    "import numpy as np\n",
    "from sklearn import datasets\n",
    "from sklearn.pipeline import Pipeline\n",
    "from sklearn.preprocessing import StandardScaler\n",
    "from sklearn.svm import LinearSVC\n",
    "from sklearn.svm import SVC\n",
    "from sklearn.linear_model import SGDClassifier\n",
    "\n",
    "iris = datasets.load_iris()\n",
    "X = iris['data'][:, (2, 3)]  # Petal lenght, Petal width\n",
    "y = (iris[\"target\"] == 2).astype(np.float64)  # Iris virginica"
   ]
  },
  {
   "cell_type": "markdown",
   "id": "c580ba21-8b63-4d41-99ec-3c740d24649b",
   "metadata": {},
   "source": [
    "### Using `LinearSVC` :"
   ]
  },
  {
   "cell_type": "code",
   "execution_count": 6,
   "id": "3ba20ef6-7ed0-42d4-874e-713dbcf9f4f9",
   "metadata": {},
   "outputs": [
    {
     "name": "stdout",
     "output_type": "stream",
     "text": [
      "Prediction using LinearSVC: [1.]\n"
     ]
    }
   ],
   "source": [
    "linear_svc_clf = Pipeline([\n",
    "    ('scaler', StandardScaler()),\n",
    "    ('linear_svc', LinearSVC(C=1, loss='hinge'))\n",
    "])\n",
    "linear_svc_clf.fit(X, y)\n",
    "print(f'Prediction using LinearSVC: {linear_svc_clf.predict([[5.5, 1.7]])}')"
   ]
  },
  {
   "cell_type": "markdown",
   "id": "e246a416-c63f-4171-9cd1-3e61fd2f48bc",
   "metadata": {},
   "source": [
    "### Using `SVC` with the `kernel`=*linear* :"
   ]
  },
  {
   "cell_type": "code",
   "execution_count": 9,
   "id": "dae29aaa-9dca-4b78-8ab8-075d3e9fdc6c",
   "metadata": {},
   "outputs": [
    {
     "name": "stdout",
     "output_type": "stream",
     "text": [
      "Prediction using Kernel SVC: [1.]\n"
     ]
    }
   ],
   "source": [
    "kernel_svc_lin = Pipeline([\n",
    "    ('scaler', StandardScaler()),\n",
    "    ('svc', SVC(C=1, kernel='linear'))\n",
    "])\n",
    "kernel_svc_lin.fit(X, y)\n",
    "print(f'Prediction using Kernel SVC: {kernel_svc_lin.predict([[5.5, 1.7]])}')"
   ]
  },
  {
   "cell_type": "markdown",
   "id": "f971786d-624d-4935-954c-8ddc13711d00",
   "metadata": {},
   "source": [
    "### Using `SGDClassifier` :"
   ]
  },
  {
   "cell_type": "code",
   "execution_count": 12,
   "id": "3a7bb98b-553a-4089-bf55-2440a84d372b",
   "metadata": {},
   "outputs": [
    {
     "name": "stdout",
     "output_type": "stream",
     "text": [
      "Prediction using SGDClassifier: [1.]\n"
     ]
    }
   ],
   "source": [
    "sgd_clf = Pipeline([\n",
    "    ('scaler', StandardScaler()),\n",
    "    ('sgd', SGDClassifier(loss='hinge'))\n",
    "])\n",
    "sgd_clf.fit(X, y)\n",
    "print(f'Prediction using SGDClassifier: {sgd_clf.predict([[5.5, 1.7]])}')"
   ]
  },
  {
   "cell_type": "markdown",
   "id": "5cc5ff17-b834-4a2a-ba5b-344afc59ae9d",
   "metadata": {},
   "source": [
    "- `LinearSVC` converges the fastest\n",
    "- `SGDClassifier` can be useful when you need to classify something online or on huge datasets that do not fit in the memory\n",
    "- `SVC` with kernel trick is more useful in a non-linear model"
   ]
  },
  {
   "cell_type": "markdown",
   "id": "5b5ac714-db34-4d4e-8c59-ff5b2879fa3d",
   "metadata": {},
   "source": [
    "---"
   ]
  },
  {
   "cell_type": "markdown",
   "id": "7da6b8f9-4b96-432f-a1c6-5ab1b55b5f54",
   "metadata": {},
   "source": [
    "## **Nonlinear SVM Classification**"
   ]
  },
  {
   "cell_type": "markdown",
   "id": "bd1d865c-23da-4a21-845f-877339f0e50c",
   "metadata": {},
   "source": [
    "Preparing the data"
   ]
  },
  {
   "cell_type": "code",
   "execution_count": 13,
   "id": "4840b457-184b-4b13-9119-9452df751933",
   "metadata": {},
   "outputs": [],
   "source": [
    "from sklearn.datasets import make_moons\n",
    "from sklearn.preprocessing import PolynomialFeatures\n",
    "\n",
    "X, y = make_moons(n_samples=100, noise=0.15)"
   ]
  },
  {
   "cell_type": "markdown",
   "id": "866b5719-a001-4612-a76e-d795cabc9eea",
   "metadata": {},
   "source": [
    "### Using `LinearSVC` :"
   ]
  },
  {
   "cell_type": "code",
   "execution_count": 18,
   "id": "f0764ab1-55b6-44ba-9574-3bc3616900a3",
   "metadata": {},
   "outputs": [
    {
     "name": "stdout",
     "output_type": "stream",
     "text": [
      "Prediction using LinearSVC: [1]\n"
     ]
    }
   ],
   "source": [
    "polynomial_lin_svc = Pipeline([\n",
    "    ('poly_features', PolynomialFeatures(degree=3)),\n",
    "    ('scale', StandardScaler()),\n",
    "    ('svm_clf', LinearSVC(C=10, loss='hinge', max_iter=1000))\n",
    "])\n",
    "\n",
    "polynomial_lin_svc.fit(X, y)\n",
    "print(f'Prediction using LinearSVC: {polynomial_lin_svc.predict([[5.5, 1.7]])}')"
   ]
  },
  {
   "cell_type": "markdown",
   "id": "f0e1a8e7-9309-44e6-9174-421e47741c5c",
   "metadata": {},
   "source": [
    "### Using `SVC` with kernel :"
   ]
  },
  {
   "cell_type": "markdown",
   "id": "dd654e10-ac66-490f-a6ec-d942d6fa7bf1",
   "metadata": {},
   "source": [
    "#### Polynomial Kernel\n",
    "- We can use `kernel`=*poly*"
   ]
  },
  {
   "cell_type": "code",
   "execution_count": 19,
   "id": "b5148d0b-edc1-4818-a626-f77db78aeb10",
   "metadata": {},
   "outputs": [],
   "source": [
    "poly_kernel_svm_clf = Pipeline([\n",
    "    ('scale', StandardScaler()),\n",
    "    ('svm_clf', SVC(kernel='poly', degree=3, coef0=1, C=5))\n",
    "])"
   ]
  },
  {
   "cell_type": "markdown",
   "id": "e82ea8ca-1852-4213-be00-a888f3ba211b",
   "metadata": {},
   "source": [
    "#### Gausian RBF Kernel\n",
    "- It adds similarity features to your dataset"
   ]
  },
  {
   "cell_type": "code",
   "execution_count": 20,
   "id": "7dfbdde0-fab7-4c9d-83ee-ba01f827a72b",
   "metadata": {},
   "outputs": [],
   "source": [
    "rbf_kernel_svm_clf = Pipeline([\n",
    "    ('scale', StandardScaler()),\n",
    "    ('svm_clf', SVC(kernel='rbf', gamma=5, C=0.001))\n",
    "])"
   ]
  },
  {
   "cell_type": "markdown",
   "id": "8a314ad2-859e-4e52-ae4e-f6e233d891f1",
   "metadata": {},
   "source": [
    "---"
   ]
  },
  {
   "cell_type": "markdown",
   "id": "89fe4e9e-6e22-4988-8117-82c4baafb4de",
   "metadata": {},
   "source": [
    "## **Regularizing SVMs**"
   ]
  },
  {
   "cell_type": "markdown",
   "id": "41f317ef-f6d6-4e73-9ae4-7a9b810541a0",
   "metadata": {},
   "source": [
    "## *Applicable to all SVMs*\n",
    "- `C` *regularization parameter*\n",
    "    - Low value:\n",
    "        - Results in a wider street\n",
    "        - Generalizes better\n",
    "        - More margin violations\n",
    "    - High value:\n",
    "        - Results in a narrower street\n",
    "        - Generalizes poorly\n",
    "        - Less margin violations"
   ]
  },
  {
   "cell_type": "markdown",
   "id": "a17fdc25-9cc9-4bc7-9d28-94b6aa39052a",
   "metadata": {},
   "source": [
    "## *Non-Linear SVMs*"
   ]
  },
  {
   "cell_type": "markdown",
   "id": "bbb23172-3082-40fb-b777-6e7ade4a1272",
   "metadata": {},
   "source": [
    "### Polynomial SVMs\n",
    "- `degree` hyperparameter can be used for regularization\n",
    "- `coef0` controls how much the model is influenced by high-degree polynomials versus low-degree polynomials\n",
    "\n",
    "### Gausian RBF Kernel\n",
    "- `gamma` hyperparamer:\n",
    "    - Acts as a regularization parameter\n",
    "    - If the model is underfitting then you should increase it's value\n",
    "    - Increasing `gamma` hyperparameter \n",
    "        - Makes the bell-shaped curve narrower\n",
    "        - Each instance's range of influence is smaller\n",
    "        - Decision boundary ends up being more irregular.\n",
    "    - Reducing `gamma` hyperparameter\n",
    "        - Makes the bell-shaped curve wider\n",
    "        - Instances have a larger range of influence\n",
    "        - Decision boundary ends up smoother"
   ]
  },
  {
   "cell_type": "markdown",
   "id": "21ca1f98-f754-45b6-b267-033a9d3978f7",
   "metadata": {},
   "source": [
    "---"
   ]
  },
  {
   "cell_type": "markdown",
   "id": "10cc04b2-5f43-465c-a5fa-5f34dce19cf2",
   "metadata": {},
   "source": [
    "# **Computational Complexity**"
   ]
  },
  {
   "cell_type": "markdown",
   "id": "aeda419d-e1f6-46eb-a124-d34370989116",
   "metadata": {},
   "source": [
    "|Class|Time complexity|Out-of-core support|Scaling required|Kernel trick|\n",
    "|---|---|---|---|---|\n",
    "|`LinearSVC`|$O(m*n)$|No|Yes|No|\n",
    "|`SGDClassifier`|$O(m*n)$|Yes|Yes|No|\n",
    "|`SVC`|$O(m^2*n)$ to $(m^3*n)$|No|Yes|No|\n"
   ]
  },
  {
   "cell_type": "markdown",
   "id": "e90f7208-28cd-4969-a788-07535a309a8a",
   "metadata": {},
   "source": [
    "---"
   ]
  },
  {
   "cell_type": "markdown",
   "id": "2f7551c6-43e4-475a-814e-e4502b80b13d",
   "metadata": {},
   "source": [
    "# **Points to note about SVMs:**"
   ]
  },
  {
   "cell_type": "markdown",
   "id": "fbd5a40d-1d78-4d27-9156-d174bddf3836",
   "metadata": {},
   "source": [
    "- SVMs are sensitive to feature scales, so it's kind of mandatory to scale the features. We can use Scikit-Learn's `StandardScalar` to scale the features\n",
    "- SVMs do not output probabilites for each class"
   ]
  },
  {
   "cell_type": "markdown",
   "id": "5f1bd44a-844d-4387-b8d9-34d1e035cfb5",
   "metadata": {},
   "source": [
    "---"
   ]
  },
  {
   "cell_type": "markdown",
   "id": "efbcc7da-62e5-440d-9f3c-277f04fba940",
   "metadata": {},
   "source": [
    "## **General Terms:**"
   ]
  },
  {
   "cell_type": "markdown",
   "id": "e6a052ca-ccb6-4302-a818-7be9affc3a11",
   "metadata": {},
   "source": [
    "### Linearly Seperable:\n",
    "- If the classes in a dataset can be seperated by a single straight line then they are called as *linearly seperable* classes\n",
    "\n",
    "### Support Vectors:\n",
    "- The instances which decide the boundary of a street for SVM\n",
    "\n",
    "### Margin Violations:\n",
    "- Any instance which are on the street or on the wrong side of the street"
   ]
  },
  {
   "cell_type": "markdown",
   "id": "61114cc8-2a26-4279-9f47-bebfc40024d0",
   "metadata": {},
   "source": [
    "---\n",
    "---"
   ]
  },
  {
   "cell_type": "markdown",
   "id": "92566518-beb1-4c6a-bd1b-43f87b08fc81",
   "metadata": {},
   "source": [
    "# **SVM Regression**"
   ]
  },
  {
   "cell_type": "markdown",
   "id": "bf6ef723-619c-410d-bb3f-955c752da81d",
   "metadata": {},
   "source": [
    "- Instead of fitting the instances off the street, *SVM Regressor* tries to fit as much instances within the street\n",
    "- Adding more instances within the margin doesn't effect the model"
   ]
  },
  {
   "cell_type": "markdown",
   "id": "c2c37f5f-74f0-490c-93f1-b51440650e91",
   "metadata": {},
   "source": [
    "---"
   ]
  },
  {
   "cell_type": "markdown",
   "id": "21b93e80-a5cf-4d58-9e26-33d236fad386",
   "metadata": {},
   "source": [
    "## **Linear SVM Regression**"
   ]
  },
  {
   "cell_type": "markdown",
   "id": "d9281c23-7b3d-40ac-a9a7-62a7719f1a00",
   "metadata": {},
   "source": [
    "### Preparing the data"
   ]
  },
  {
   "cell_type": "code",
   "execution_count": 21,
   "id": "a7982c97-d9d5-4556-97b8-e262be390a69",
   "metadata": {},
   "outputs": [],
   "source": [
    "X = 2 * np.random.rand(50, 1)\n",
    "y = (4 + 3 * X + np.random.randn(50, 1)).ravel()"
   ]
  },
  {
   "cell_type": "markdown",
   "id": "25469272-5f5f-44c6-8079-90dffc1b202c",
   "metadata": {},
   "source": [
    "### Implementing SVR Regression using `LinearSVR`"
   ]
  },
  {
   "cell_type": "code",
   "execution_count": 22,
   "id": "01e2da7e-32f3-4bae-88c6-c6ffd3ce3f88",
   "metadata": {},
   "outputs": [],
   "source": [
    "from sklearn.svm import LinearSVR\n",
    "\n",
    "svm_reg = LinearSVR(epsilon=1.5)"
   ]
  },
  {
   "cell_type": "markdown",
   "id": "64b19d03-1157-45e0-ac36-724eef88214d",
   "metadata": {},
   "source": [
    "---"
   ]
  },
  {
   "cell_type": "markdown",
   "id": "a5ca46b5-31e5-4ab4-a8c6-b1649da9cb9d",
   "metadata": {},
   "source": [
    "## **Non-linear SVM Regression**"
   ]
  },
  {
   "cell_type": "markdown",
   "id": "df12358d-0dd8-46e9-b75d-f659180643ae",
   "metadata": {},
   "source": [
    "### Preparing the data"
   ]
  },
  {
   "cell_type": "code",
   "execution_count": 23,
   "id": "9beabe16-418f-4d61-a15a-c63ec0c50726",
   "metadata": {},
   "outputs": [],
   "source": [
    "X = 2 * np.random.rand(100, 1) - 1\n",
    "y = (0.2 + 0.1 * X + 0.5 * X**2 + np.random.randn(100, 1)/10).ravel()"
   ]
  },
  {
   "cell_type": "markdown",
   "id": "8c444a98-0801-4c3d-9a77-c11195fe9459",
   "metadata": {},
   "source": [
    "### Implementing SVR Regression using SVR"
   ]
  },
  {
   "cell_type": "code",
   "execution_count": 24,
   "id": "168c8841-af52-43da-8d48-d1542fd5e351",
   "metadata": {},
   "outputs": [],
   "source": [
    "from sklearn.svm import SVR\n",
    "\n",
    "svm_poly_reg = SVR(kernel='poly', degree=2, C=100, epsilon=0.1)"
   ]
  },
  {
   "cell_type": "markdown",
   "id": "cbe534ca-f2d8-4701-ace1-f16e0ad64452",
   "metadata": {},
   "source": [
    "---"
   ]
  },
  {
   "cell_type": "markdown",
   "id": "ef1a0422-7067-4357-bfcc-ee71e0ca6523",
   "metadata": {},
   "source": [
    "## **Regularizing SVMs**"
   ]
  },
  {
   "cell_type": "markdown",
   "id": "3e8604c3-61f9-487f-9b07-6cdd407707d8",
   "metadata": {},
   "source": [
    "## *Applicable to all SVMs*\n",
    "- `epsilon`\n",
    "    - Controls the width of the street\n",
    "    - Low value - narrower street\n",
    "    - High value - wider street\n",
    "- `C`\n",
    "    - Low value - higher regularization\n",
    "    - High value - less regularization\n"
   ]
  },
  {
   "cell_type": "markdown",
   "id": "7f16c270-29c2-4811-95a9-d0471ffa89a6",
   "metadata": {},
   "source": [
    "---\n",
    "---"
   ]
  },
  {
   "cell_type": "markdown",
   "id": "823b276a-960e-416b-893f-82c05efd6c62",
   "metadata": {},
   "source": [
    "# **Support Vector Machine on MNIST Data**"
   ]
  },
  {
   "cell_type": "markdown",
   "id": "77b3bf04-8599-491b-9fde-8efd389a1661",
   "metadata": {},
   "source": [
    "## *Preparing the data*"
   ]
  },
  {
   "cell_type": "code",
   "execution_count": 2,
   "id": "d6a7053a-6113-479c-a2b0-0ae8cc60b756",
   "metadata": {},
   "outputs": [],
   "source": [
    "import numpy as np\n",
    "from sklearn.datasets import fetch_openml\n",
    "mnist = fetch_openml('mnist_784', version=1, cache=True)\n",
    "\n",
    "X = mnist['data']\n",
    "y = mnist['target'].astype(np.uint8)\n",
    "\n",
    "X_train = X[:60000]\n",
    "y_train = y[:60000]\n",
    "X_test = X[60000:]\n",
    "y_test = y[60000:]"
   ]
  },
  {
   "cell_type": "markdown",
   "id": "18837df8-f41f-4570-ac85-0635b905e43a",
   "metadata": {},
   "source": [
    "The MNIST dataset is already shuffled and placed in a particular order for *train* and *test* sets"
   ]
  },
  {
   "cell_type": "markdown",
   "id": "22065695-eb1b-4a15-949d-8fe3eb7a5b54",
   "metadata": {},
   "source": [
    "## *Linear SVM*\n",
    "Let's start with the simplest of SVMs, *Linear SVM*. By default, it will use One-vs-All *(One-vs-Rest)*"
   ]
  },
  {
   "cell_type": "markdown",
   "id": "d728db16-c3a1-4f89-a29f-b5ee87b777e9",
   "metadata": {},
   "source": [
    "### Initializing the model"
   ]
  },
  {
   "cell_type": "code",
   "execution_count": 3,
   "id": "dec95d74-5bbf-4ef6-84ae-35e0a1cb9199",
   "metadata": {},
   "outputs": [
    {
     "name": "stderr",
     "output_type": "stream",
     "text": [
      "c:\\program files\\python39\\lib\\site-packages\\sklearn\\svm\\_base.py:985: ConvergenceWarning: Liblinear failed to converge, increase the number of iterations.\n",
      "  warnings.warn(\"Liblinear failed to converge, increase \"\n"
     ]
    },
    {
     "data": {
      "text/plain": [
       "LinearSVC(random_state=42)"
      ]
     },
     "execution_count": 3,
     "metadata": {},
     "output_type": "execute_result"
    }
   ],
   "source": [
    "from sklearn.svm import LinearSVC\n",
    "lin_clf = LinearSVC(random_state=42)\n",
    "lin_clf.fit(X_train, y_train)"
   ]
  },
  {
   "cell_type": "markdown",
   "id": "a7c71683-d849-40c1-91a9-d14f9ab2105d",
   "metadata": {},
   "source": [
    "### Evaluating the model"
   ]
  },
  {
   "cell_type": "code",
   "execution_count": 7,
   "id": "b2e8a90f-492f-4a0c-891e-86c05d582cd1",
   "metadata": {},
   "outputs": [
    {
     "name": "stdout",
     "output_type": "stream",
     "text": [
      "Accuracy score: 83.49%\n"
     ]
    }
   ],
   "source": [
    "from sklearn.metrics import accuracy_score\n",
    "\n",
    "y_pred = lin_clf.predict(X_train)\n",
    "print(f'Accuracy score: {round(accuracy_score(y_train, y_pred)*100, 2)}%')"
   ]
  },
  {
   "cell_type": "markdown",
   "id": "3cbc9e4c-a674-41f2-bfff-ce768e88be3b",
   "metadata": {},
   "source": [
    "Accuracy score of 83.49% for a simple linear model without any data preprocessing and any regularization is pretty good. But let's try to preprocess the data first and see the result."
   ]
  },
  {
   "cell_type": "markdown",
   "id": "72fc2aa3-b150-4e2e-ac2e-acc65fae8dff",
   "metadata": {},
   "source": [
    "### Preprocessing the data"
   ]
  },
  {
   "cell_type": "code",
   "execution_count": 8,
   "id": "db8ba5f8-1bf6-4c3b-b02d-8721f22a9fb6",
   "metadata": {},
   "outputs": [],
   "source": [
    "from sklearn.preprocessing import StandardScaler\n",
    "scaler = StandardScaler()\n",
    "X_train_scaled = scaler.fit_transform(X_train.astype(np.float32))\n",
    "X_test_scaled = scaler.fit_transform(X_test.astype(np.float32))"
   ]
  },
  {
   "cell_type": "markdown",
   "id": "35fc9cc0-6191-41fd-a20b-e3b7ab5ef6df",
   "metadata": {},
   "source": [
    "Now let's apply the same model to the scaled data"
   ]
  },
  {
   "cell_type": "code",
   "execution_count": 9,
   "id": "52147a21-5e14-4ce3-ac29-8f20634f4e1c",
   "metadata": {},
   "outputs": [
    {
     "name": "stderr",
     "output_type": "stream",
     "text": [
      "c:\\program files\\python39\\lib\\site-packages\\sklearn\\svm\\_base.py:985: ConvergenceWarning: Liblinear failed to converge, increase the number of iterations.\n",
      "  warnings.warn(\"Liblinear failed to converge, increase \"\n"
     ]
    },
    {
     "data": {
      "text/plain": [
       "LinearSVC(random_state=42)"
      ]
     },
     "execution_count": 9,
     "metadata": {},
     "output_type": "execute_result"
    }
   ],
   "source": [
    "lin_clf = LinearSVC(random_state=42)\n",
    "lin_clf.fit(X_train_scaled, y_train)"
   ]
  },
  {
   "cell_type": "markdown",
   "id": "cb95990e-46d6-41e6-8466-b8f3a82c558a",
   "metadata": {},
   "source": [
    "Now let's look at the accuracy score for the scaled model"
   ]
  },
  {
   "cell_type": "code",
   "execution_count": 11,
   "id": "a8d3ca6d-1e31-45b1-bba9-c0bcb5c4eaa7",
   "metadata": {},
   "outputs": [
    {
     "name": "stdout",
     "output_type": "stream",
     "text": [
      "Accuracy score for the scaled model: 92.17%\n"
     ]
    }
   ],
   "source": [
    "y_pred = lin_clf.predict(X_train_scaled)\n",
    "print(f'Accuracy score for the scaled model: {round(accuracy_score(y_train, y_pred)*100, 2)}%')"
   ]
  },
  {
   "cell_type": "markdown",
   "id": "1777155b-efcb-4274-9f10-d31a48f9bfa2",
   "metadata": {},
   "source": [
    "Ah! that's impressive. Just by scaling the data we were able to improve the accuracy score to 92.17%"
   ]
  },
  {
   "cell_type": "markdown",
   "id": "48aa2e75-9893-4090-88c5-cc5ebd6defcc",
   "metadata": {},
   "source": [
    "## *Kernel SVM*"
   ]
  },
  {
   "cell_type": "markdown",
   "id": "30c36483-b0d7-4acd-ab36-402c415bfaed",
   "metadata": {},
   "source": [
    "Instead of training on the complete set, let's first train on a sub-set, fine-tune the parameters and see the results"
   ]
  },
  {
   "cell_type": "code",
   "execution_count": 12,
   "id": "0c2f8ebc-2c89-46e2-a30f-99dff3fa8363",
   "metadata": {},
   "outputs": [
    {
     "data": {
      "text/plain": [
       "SVC()"
      ]
     },
     "execution_count": 12,
     "metadata": {},
     "output_type": "execute_result"
    }
   ],
   "source": [
    "from sklearn.svm import SVC\n",
    "svm_clf = SVC(kernel='rbf',\n",
    "             gamma='scale')\n",
    "svm_clf.fit(X_train_scaled[:10000], y_train[:10000])"
   ]
  },
  {
   "cell_type": "markdown",
   "id": "0f1fa0b7-15d0-4cf9-ab92-9c044e242520",
   "metadata": {},
   "source": [
    "Checking the accuracy score"
   ]
  },
  {
   "cell_type": "code",
   "execution_count": 13,
   "id": "425341ae-7ccc-4c74-836f-d80991df5e7a",
   "metadata": {},
   "outputs": [
    {
     "name": "stdout",
     "output_type": "stream",
     "text": [
      "Accuracy score of SVM: 94.55%\n"
     ]
    }
   ],
   "source": [
    "y_pred = svm_clf.predict(X_train_scaled)\n",
    "print(f'Accuracy score of SVM: {round(accuracy_score(y_train, y_pred)*100, 2)}%')"
   ]
  },
  {
   "cell_type": "markdown",
   "id": "583dbbe0-6bd3-424e-a71d-7454c8c4e48e",
   "metadata": {},
   "source": [
    "So it turns out that we get a better perfomance even though the SVM model is trained on 6 times less data."
   ]
  },
  {
   "cell_type": "markdown",
   "id": "21ea8d75-99f9-4765-af35-8c253fbd80b0",
   "metadata": {},
   "source": [
    "Let's now tune the hyperparameters using a randomized search with cross validation. We will do this on a small dataset just to speed things up."
   ]
  },
  {
   "cell_type": "code",
   "execution_count": 14,
   "id": "d6a6bc6c-3612-440d-89fa-9c7fb5266049",
   "metadata": {},
   "outputs": [
    {
     "name": "stdout",
     "output_type": "stream",
     "text": [
      "Fitting 3 folds for each of 10 candidates, totalling 30 fits\n",
      "[CV] END ....C=8.019100659027712, gamma=0.017696273174877687; total time=   0.2s\n",
      "[CV] END ....C=8.019100659027712, gamma=0.017696273174877687; total time=   0.1s\n",
      "[CV] END ....C=8.019100659027712, gamma=0.017696273174877687; total time=   0.1s\n",
      "[CV] END ....C=9.638323939420122, gamma=0.010263097329434766; total time=   0.1s\n",
      "[CV] END ....C=9.638323939420122, gamma=0.010263097329434766; total time=   0.1s\n",
      "[CV] END ....C=9.638323939420122, gamma=0.010263097329434766; total time=   0.1s\n",
      "[CV] END .....C=9.802707110189608, gamma=0.06617091538557746; total time=   0.2s\n",
      "[CV] END .....C=9.802707110189608, gamma=0.06617091538557746; total time=   0.2s\n",
      "[CV] END .....C=9.802707110189608, gamma=0.06617091538557746; total time=   0.2s\n",
      "[CV] END ..C=10.071907048103903, gamma=0.0033974504088832807; total time=   0.1s\n",
      "[CV] END ..C=10.071907048103903, gamma=0.0033974504088832807; total time=   0.1s\n",
      "[CV] END ..C=10.071907048103903, gamma=0.0033974504088832807; total time=   0.1s\n",
      "[CV] END ....C=3.3346285840327985, gamma=0.07935058819289013; total time=   0.2s\n",
      "[CV] END ....C=3.3346285840327985, gamma=0.07935058819289013; total time=   0.2s\n",
      "[CV] END ....C=3.3346285840327985, gamma=0.07935058819289013; total time=   0.2s\n",
      "[CV] END ...C=1.4564890943617195, gamma=0.023164019404286543; total time=   0.2s\n",
      "[CV] END ...C=1.4564890943617195, gamma=0.023164019404286543; total time=   0.1s\n",
      "[CV] END ...C=1.4564890943617195, gamma=0.023164019404286543; total time=   0.1s\n",
      "[CV] END ....C=7.962920352245905, gamma=0.004995345684714598; total time=   0.1s\n",
      "[CV] END ....C=7.962920352245905, gamma=0.004995345684714598; total time=   0.1s\n",
      "[CV] END ....C=7.962920352245905, gamma=0.004995345684714598; total time=   0.1s\n",
      "[CV] END ....C=6.077734231607074, gamma=0.013033137197707085; total time=   0.1s\n",
      "[CV] END ....C=6.077734231607074, gamma=0.013033137197707085; total time=   0.1s\n",
      "[CV] END ....C=6.077734231607074, gamma=0.013033137197707085; total time=   0.2s\n",
      "[CV] END ....C=9.407417540303639, gamma=0.057450672900391464; total time=   0.2s\n",
      "[CV] END ....C=9.407417540303639, gamma=0.057450672900391464; total time=   0.2s\n",
      "[CV] END ....C=9.407417540303639, gamma=0.057450672900391464; total time=   0.1s\n",
      "[CV] END .....C=6.434059697565608, gamma=0.05947566609615394; total time=   0.1s\n",
      "[CV] END .....C=6.434059697565608, gamma=0.05947566609615394; total time=   0.1s\n",
      "[CV] END .....C=6.434059697565608, gamma=0.05947566609615394; total time=   0.2s\n"
     ]
    },
    {
     "data": {
      "text/plain": [
       "RandomizedSearchCV(cv=3, estimator=SVC(),\n",
       "                   param_distributions={'C': <scipy.stats._distn_infrastructure.rv_frozen object at 0x000001F131ADDA30>,\n",
       "                                        'gamma': <scipy.stats._distn_infrastructure.rv_frozen object at 0x000001F130EC8C40>},\n",
       "                   verbose=2)"
      ]
     },
     "execution_count": 14,
     "metadata": {},
     "output_type": "execute_result"
    }
   ],
   "source": [
    "from sklearn.model_selection import RandomizedSearchCV\n",
    "from scipy.stats import reciprocal, uniform\n",
    "\n",
    "param_distribution = {'gamma': reciprocal(0.001, 0.1), 'C': uniform(1, 10)}\n",
    "rnd_search_cv = RandomizedSearchCV(svm_clf, \n",
    "                                   param_distribution, \n",
    "                                   n_iter=10, \n",
    "                                   verbose=2, \n",
    "                                   cv=3)\n",
    "rnd_search_cv.fit(X_train_scaled[:1000], y_train[:1000])"
   ]
  },
  {
   "cell_type": "markdown",
   "id": "cb631d2d-5599-42d3-85c3-90236b9b1d25",
   "metadata": {},
   "source": [
    "Let's look at the best estimator and best estimator"
   ]
  },
  {
   "cell_type": "code",
   "execution_count": 16,
   "id": "58cf2eaa-06ec-4066-a418-9000e87c74c9",
   "metadata": {},
   "outputs": [
    {
     "name": "stdout",
     "output_type": "stream",
     "text": [
      "Best Estimator: SVC(C=10.071907048103903, gamma=0.0033974504088832807)\n",
      "Best Score: 0.8009866153578727\n"
     ]
    }
   ],
   "source": [
    "print(f'Best Estimator: {rnd_search_cv.best_estimator_}')\n",
    "print(f'Best Score: {rnd_search_cv.best_score_}')"
   ]
  },
  {
   "cell_type": "markdown",
   "id": "061651b2-57e0-4cb3-84a1-362d232199ee",
   "metadata": {},
   "source": [
    "Huh! this looks really low. Let's try to train the model on the entire dataset instead of the subset"
   ]
  },
  {
   "cell_type": "code",
   "execution_count": 17,
   "id": "c2c1040b-963a-44f5-8315-b5f1eb6b41a9",
   "metadata": {},
   "outputs": [
    {
     "data": {
      "text/plain": [
       "SVC(C=10.071907048103903, gamma=0.0033974504088832807)"
      ]
     },
     "execution_count": 17,
     "metadata": {},
     "output_type": "execute_result"
    }
   ],
   "source": [
    "rnd_search_cv.best_estimator_.fit(X_train_scaled, y_train)"
   ]
  },
  {
   "cell_type": "markdown",
   "id": "c9772369-9612-418e-8c84-dbe9146595e1",
   "metadata": {},
   "source": [
    "Let's look at the accuracy score for this model:"
   ]
  },
  {
   "cell_type": "code",
   "execution_count": 18,
   "id": "cdbbea10-9040-4ea7-8b84-a5e0c3f93f7a",
   "metadata": {},
   "outputs": [
    {
     "name": "stdout",
     "output_type": "stream",
     "text": [
      "Accuracy score for RBF SVM: 100.0%\n"
     ]
    }
   ],
   "source": [
    "y_pred = rnd_search_cv.best_estimator_.predict(X_train_scaled)\n",
    "print(f'Accuracy score for RBF SVM: {round(accuracy_score(y_train, y_pred)*100, 2)}%')"
   ]
  },
  {
   "cell_type": "markdown",
   "id": "0873e268-18fe-49df-987b-fd48a213b17a",
   "metadata": {},
   "source": [
    "Now that looks promising! Let's try to evaluate the model on the test set and see the accuracy score."
   ]
  },
  {
   "cell_type": "code",
   "execution_count": 19,
   "id": "2b34a295-fd01-4f05-a709-ea4509e75845",
   "metadata": {},
   "outputs": [
    {
     "name": "stdout",
     "output_type": "stream",
     "text": [
      "Accuracy score for RBF SVM on test data: 96.04%\n"
     ]
    }
   ],
   "source": [
    "y_pred = rnd_search_cv.best_estimator_.predict(X_test_scaled)\n",
    "print(f'Accuracy score for RBF SVM on test data: {round(accuracy_score(y_test, y_pred)*100, 2)}%')"
   ]
  },
  {
   "cell_type": "markdown",
   "id": "34fc5e46-db27-4d0e-8916-f42ebb71974a",
   "metadata": {},
   "source": []
  }
 ],
 "metadata": {
  "kernelspec": {
   "display_name": "Python 3",
   "language": "python",
   "name": "python3"
  },
  "language_info": {
   "codemirror_mode": {
    "name": "ipython",
    "version": 3
   },
   "file_extension": ".py",
   "mimetype": "text/x-python",
   "name": "python",
   "nbconvert_exporter": "python",
   "pygments_lexer": "ipython3",
   "version": "3.9.5"
  }
 },
 "nbformat": 4,
 "nbformat_minor": 5
}
